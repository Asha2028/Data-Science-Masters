{
 "cells": [
  {
   "cell_type": "raw",
   "id": "0465b487",
   "metadata": {},
   "source": [
    "1. Who developed Python Programming Language?\n",
    "Ans:\n",
    "    Python programming language is developed by Guido Van Rossum"
   ]
  },
  {
   "cell_type": "raw",
   "id": "0f96183b",
   "metadata": {},
   "source": [
    "2. Which type of programming does Python support?\n",
    "Ans:\n",
    "    Object Oriented Programming and Structural programmiong supports Python programming,"
   ]
  },
  {
   "cell_type": "raw",
   "id": "58252808",
   "metadata": {},
   "source": [
    "3. Is Python case sesitive when dealing with identifiers?\n",
    "Ans:\n",
    "    Yes, Python is a case−sensitive programming language."
   ]
  },
  {
   "cell_type": "raw",
   "id": "400b333d",
   "metadata": {},
   "source": [
    "4. What is the correct extension of the Python file?\n",
    "Ans:\n",
    "    .py, .pyi, .pyc, .pyd, .pyo, .pyw, .pyz"
   ]
  },
  {
   "cell_type": "raw",
   "id": "20b7341c",
   "metadata": {},
   "source": [
    "5. Is python code compiled or interpreted?\n",
    "Ans:\n",
    "    Python code is interpreted."
   ]
  },
  {
   "cell_type": "raw",
   "id": "4202d52f",
   "metadata": {},
   "source": [
    "6. Name a few blocks of code used to define in python language?\n",
    "Ans: \n",
    "     A block is a piece of Python program text that is executed as a unit. The following are blocks: a module, a function body, and a class definition. Each command typed interactively is a block. A script file (a file given as standard input to the interpreter or specified as a command line argument to the interpreter) is a code block. "
   ]
  },
  {
   "cell_type": "raw",
   "id": "96029788",
   "metadata": {},
   "source": [
    "7. State a character used to give single line comments in python?\n",
    "Ans: \n",
    "    \"#\" is the character used to give single line comments in python"
   ]
  },
  {
   "cell_type": "raw",
   "id": "b65d4598",
   "metadata": {},
   "source": [
    "8. Mention functions which can help us to find the version of python that we are currently working on?\n",
    "Ans:\n",
    "    sys function is used to find the python version that we are currently using."
   ]
  },
  {
   "cell_type": "code",
   "execution_count": 4,
   "id": "5cb57a76",
   "metadata": {},
   "outputs": [
    {
     "data": {
      "text/plain": [
       "'3.9.13 (main, Aug 25 2022, 18:29:29) \\n[Clang 12.0.0 ]'"
      ]
     },
     "execution_count": 4,
     "metadata": {},
     "output_type": "execute_result"
    }
   ],
   "source": [
    "import sys\n",
    "sys.version"
   ]
  },
  {
   "cell_type": "raw",
   "id": "74112e2d",
   "metadata": {},
   "source": [
    "9. Python supports the creation of anonymous functions at runtime, using a construct called as \"lambda function\""
   ]
  },
  {
   "cell_type": "raw",
   "id": "5ce8f6f8",
   "metadata": {},
   "source": [
    "10. What does pip stand for python?\n",
    "Ans:\n",
    "    pip stands for \"Preferred installer Program\""
   ]
  },
  {
   "cell_type": "raw",
   "id": "7485e20b",
   "metadata": {},
   "source": [
    "11. Mention a few built-in functions in python?\n",
    "Ans:\n",
    "    The few built-in functions in python are:\n",
    "        len(), print(), bool(), abs(), bin() and so on."
   ]
  },
  {
   "cell_type": "raw",
   "id": "bf276d2e",
   "metadata": {},
   "source": [
    "12. What is the maximum possible length of an identifier in python?\n",
    "Ans:\n",
    "    An identifier can have a maximum length of 79 characters in Python."
   ]
  },
  {
   "cell_type": "raw",
   "id": "cc8fb315",
   "metadata": {},
   "source": [
    "13. What are the benefits of using python?\n",
    "Ans:\n",
    "    Benefits of Python:\n",
    "        1. Open source and free\n",
    "        2. Easy to learn\n",
    "        3. Huge support community\n",
    "        4. User-Friendly data structures\n",
    "        5. Speed"
   ]
  },
  {
   "cell_type": "raw",
   "id": "0fae0ebd",
   "metadata": {},
   "source": [
    "14. How is memory managed in python?\n",
    "Ans:\n",
    "    Python uses the dynamic memory allocation which is managed by the Heap data structure. Memory Heap holds the objects and other data structures that will be used in the program. Python memory manager manages the allocation or de-allocation of the heap memory space through the API functions."
   ]
  },
  {
   "cell_type": "raw",
   "id": "20864747",
   "metadata": {},
   "source": [
    "15. How to install Python on windows and set path variables?\n",
    "Ans:\n",
    "    1. To download Python, you need to visit www.python.org, which is the official Python website.\n",
    "    2. Click on the Downloads tab and then select the Windows option. \n",
    "    3.This will take you to the page where the different Python releases for Windows can be found. Since I am using a 64bit system, I’ll select “Windows x86-64 executable installer”.\n",
    "    4.Once the executable file download is complete, you can open it to install Python.\n",
    "    5.Click on Run, which will start the installation process.\n",
    "    6.Also, select the checkbox which says(Add Python 3.7 to PATH) at the bottom to Add Python 3.7 to PATH.\n",
    "    7.Once the installation is complete, the pop-up box will appear: Setup was successful."
   ]
  },
  {
   "cell_type": "raw",
   "id": "c79bf60c",
   "metadata": {},
   "source": [
    "is indentation required in python?\n",
    "Ans:\n",
    "    Yes indentation is a must required in python."
   ]
  },
  {
   "cell_type": "code",
   "execution_count": null,
   "id": "18c8bdef",
   "metadata": {},
   "outputs": [],
   "source": []
  }
 ],
 "metadata": {
  "kernelspec": {
   "display_name": "Python 3 (ipykernel)",
   "language": "python",
   "name": "python3"
  },
  "language_info": {
   "codemirror_mode": {
    "name": "ipython",
    "version": 3
   },
   "file_extension": ".py",
   "mimetype": "text/x-python",
   "name": "python",
   "nbconvert_exporter": "python",
   "pygments_lexer": "ipython3",
   "version": "3.9.13"
  }
 },
 "nbformat": 4,
 "nbformat_minor": 5
}
