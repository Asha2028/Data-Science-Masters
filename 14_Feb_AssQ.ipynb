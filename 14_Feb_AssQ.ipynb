{
 "cells": [
  {
   "cell_type": "raw",
   "id": "b2560043",
   "metadata": {},
   "source": [
    "Q1. what is multithreading in python? Why is it used? Name the module used to handle threads in python"
   ]
  },
  {
   "cell_type": "raw",
   "id": "e2ca2bb6",
   "metadata": {},
   "source": [
    "Ans:\n",
    "     Multithreading is a way of achieving multitasking. In multithreading, the concept of threads is used.\n",
    "     \n",
    "     In computing, a process is an instance of a computer program that is being executed. Any process has 3 basic components:\n",
    "\n",
    "1. An executable program.\n",
    "2. The associated data needed by the program (variables, work space, buffers, etc.)\n",
    "3. The execution context of the program (State of process)\n",
    "\n",
    "A thread is an entity within a process that can be scheduled for execution. Also, it is the smallest unit of processing that can be performed in an OS (Operating System). In simple words, a thread is a sequence of such instructions within a program that can be executed independently of other code. For simplicity, you can assume that a thread is simply a subset of a process!\n",
    "\n",
    "Multi-threading: Multiple threads can exist within one process where:\n",
    "\n",
    "1. Each thread contains its own register set and local variables (stored in stack).\n",
    "2. All threads of a process share global variables (stored in heap) and the program code.\n",
    "\n",
    "Multithreading is defined as the ability of a processor to execute multiple threads concurrently.\n",
    "\n",
    "In Python, the threading module provides a very simple and intuitive API for spawning multiple threads in a program. "
   ]
  },
  {
   "cell_type": "raw",
   "id": "1e3e04b3",
   "metadata": {},
   "source": [
    "Q2. Why threading module used? Write the use of the following functions\n",
    "1. activeCount()\n",
    "2. currentThread()\n",
    "3. enumerate()"
   ]
  },
  {
   "cell_type": "raw",
   "id": "32b35f94",
   "metadata": {},
   "source": [
    "Ans:\n",
    "    \n",
    "1. activeCount() : This function returns the number of Thread objects currently alive.\n",
    "    \n",
    "2. currentThread(): This function will return the current Thread object, corresponding to the caller's thread of control(which is in the control of caller currently). If the caller's thread of control was not created through the threading module(for example the main thread), then a dummy thread object with limited functionality is returned.\n",
    "    \n",
    "3. enumerate(): This method returns a list of all Thread objects currently alive. The list includes daemonic threads(when the program quits, all the daemon threads associated with it are killed automatically), dummy thread objects created by the current thread, and the main thread.\n",
    "\n",
    "Terminated threads and threads that have not yet been started are not present in this list."
   ]
  },
  {
   "cell_type": "code",
   "execution_count": 5,
   "id": "f2687a94",
   "metadata": {},
   "outputs": [
    {
     "name": "stdout",
     "output_type": "stream",
     "text": [
      "Number of active threads:  10\n"
     ]
    }
   ],
   "source": [
    "#Example - activecount()\n",
    "\n",
    "import threading, time\n",
    "\n",
    "def thread1(i):\n",
    "    time.sleep(3)\n",
    "    \n",
    "def thread2(i):\n",
    "    time.sleep(3)\n",
    "    \n",
    "if __name__ ==\"__main__\":\n",
    "    t1 = threading.Thread(target=thread1, args=(10,))\n",
    "    t2 = threading.Thread(target=thread2,args= (20,))\n",
    "    \n",
    "    t1.start()\n",
    "    t2.start()\n",
    "    \n",
    "    print(\"Number of active threads: \",threading.active_count())\n",
    "    \n",
    "    t1.join()\n",
    "    t2.join()"
   ]
  },
  {
   "cell_type": "code",
   "execution_count": 10,
   "id": "7fb2cc10",
   "metadata": {},
   "outputs": [
    {
     "name": "stdout",
     "output_type": "stream",
     "text": [
      "Current thread object:  <_MainThread(MainThread, started 8605192896)>\n"
     ]
    }
   ],
   "source": [
    "#Example - currentThread()\n",
    "\n",
    "import threading, time\n",
    "\n",
    "def thread1(i):\n",
    "    time.sleep(3)\n",
    "    \n",
    "def thread2(i):\n",
    "    time.sleep(3)\n",
    "    \n",
    "if __name__ ==\"__main__\":\n",
    "    t1 = threading.Thread(target=thread1, args=(10,))\n",
    "    t2 = threading.Thread(target=thread2,args= (20,))\n",
    "    \n",
    "    t1.start()\n",
    "    t2.start()\n",
    "    \n",
    "    print(\"Current thread object: \",threading.current_thread())\n",
    "    \n",
    "    t1.join()\n",
    "    t2.join()"
   ]
  },
  {
   "cell_type": "code",
   "execution_count": 11,
   "id": "22742ca8",
   "metadata": {},
   "outputs": [
    {
     "name": "stdout",
     "output_type": "stream",
     "text": [
      "List of ctive threads:  [<_MainThread(MainThread, started 8605192896)>, <Thread(IOPub, started daemon 12943925248)>, <Heartbeat(Heartbeat, started daemon 12960714752)>, <Thread(Thread-3, started daemon 12978577408)>, <Thread(Thread-4, started daemon 12995366912)>, <ControlThread(Control, started daemon 13012156416)>, <HistorySavingThread(IPythonHistorySavingThread, started 13028945920)>, <ParentPollerUnix(Thread-2, started daemon 13046296576)>, <Thread(Thread-19, started 13063086080)>, <Thread(Thread-20, started 13079875584)>]\n"
     ]
    }
   ],
   "source": [
    "#Example - enumerate()\n",
    "\n",
    "import threading, time\n",
    "\n",
    "def thread1(i):\n",
    "    time.sleep(3)\n",
    "    \n",
    "def thread2(i):\n",
    "    time.sleep(3)\n",
    "    \n",
    "if __name__ ==\"__main__\":\n",
    "    t1 = threading.Thread(target=thread1, args=(10,))\n",
    "    t2 = threading.Thread(target=thread2,args= (20,))\n",
    "    \n",
    "    t1.start()\n",
    "    t2.start()\n",
    "    \n",
    "    print(\"List of ctive threads: \",threading.enumerate())\n",
    "    \n",
    "    t1.join()\n",
    "    t2.join()"
   ]
  },
  {
   "cell_type": "raw",
   "id": "a130ccaf",
   "metadata": {},
   "source": [
    "Q3. Explain the following functions\n",
    "1. run()\n",
    "2. start()\n",
    "3. join()\n",
    "4. isAlive()"
   ]
  },
  {
   "cell_type": "raw",
   "id": "1e9597c5",
   "metadata": {},
   "source": [
    "Ans:\n",
    "    \n",
    "1. run(): Method representing the thread's activity. The standard run() method invokes the callable object passed to the object's constructor as the target argument with sequential and keyword arguments taken from the args and kwargs arguments, respectively.\n",
    "\n",
    "2. start(): This method is used to start the thread's activity. When we call this method, internally the run() method is invoked which executes the target function or the callable object.\n",
    "\n",
    "3. join(): When we call this method for any thread, it blocks the calling thread until the thread whose join() method is called terminates, either normally or through an unhandled exception.\n",
    "\n",
    "4. isAlive(): This method returns whether the thread is alive or not. A thread is alive from the moment the start() method returns until its run() method terminates."
   ]
  },
  {
   "cell_type": "raw",
   "id": "9fd50b31",
   "metadata": {},
   "source": [
    "Q4. Write a python program to create two threads. Thread one must print the list of squares and thread two must print the list of cubes"
   ]
  },
  {
   "cell_type": "code",
   "execution_count": 2,
   "id": "38e98496",
   "metadata": {},
   "outputs": [
    {
     "name": "stdout",
     "output_type": "stream",
     "text": [
      "Cube: 125\n",
      "Square: 25\n",
      "Done!!!!\n"
     ]
    }
   ],
   "source": [
    "#Example\n",
    "\n",
    "import threading\n",
    "\n",
    "def cube_func(n):\n",
    "    print(\"Cube: {}\".format(n*n*n))\n",
    "    \n",
    "def square_func(n):\n",
    "    print(\"Square: {}\".format(n*n))\n",
    "    \n",
    "if __name__ == \"__main__\":\n",
    "    t1 =threading.Thread(target=cube_func, args=(5,))\n",
    "    t2 = threading.Thread(target=square_func, args=(5,))\n",
    "    \n",
    "    t1.start()\n",
    "    t2.start()\n",
    "    \n",
    "    t1.join()\n",
    "    t2.join()\n",
    "    \n",
    "    print(\"Done!!!!\")"
   ]
  },
  {
   "cell_type": "raw",
   "id": "1703dc45",
   "metadata": {},
   "source": [
    "Q5. State advantages and disadvantages of multithreading"
   ]
  },
  {
   "cell_type": "raw",
   "id": "8a77d3f1",
   "metadata": {},
   "source": [
    "Ans:\n",
    "    \n",
    "Advantages:\n",
    "\n",
    "1. It doesn’t block the user. This is because threads are independent of each other.\n",
    "2. Better use of system resources is possible since threads execute tasks parallely.\n",
    "3. Enhanced performance on multi-processor machines.\n",
    "4. Multi-threaded servers and interactive GUIs use multithreading exclusively.\n",
    "\n",
    "Disadvantages:\n",
    "\n",
    "1. As number of threads increase, complexity increases.\n",
    "2. Synchronization of shared resources (objects, data) is necessary.\n",
    "3. It is difficult to debug, result is sometimes unpredictable.\n",
    "Potential deadlocks which leads to starvation, i.e. some threads may not be served with a bad design\n",
    "4. Constructing and synchronizing threads is CPU/memory intensive.\n"
   ]
  },
  {
   "cell_type": "raw",
   "id": "d7d02263",
   "metadata": {},
   "source": [
    "Q6. Explain deadlocks and race conditions."
   ]
  },
  {
   "cell_type": "raw",
   "id": "d4b954f8",
   "metadata": {},
   "source": [
    "Ans:\n",
    "    \n",
    "Race condition occurs when multiple threads read and write the same variable i.e. they have access to some shared data and they try to change it at the same time. In such a scenario threads are “racing” each other to access/change the data.\n",
    "    \n",
    "    threading module provides a Lock class to deal with the race conditions. Lock is implemented using a Semaphore object provided by the Operating System.\n",
    "    \n",
    "Deadlocks: A deadlock is a concurrency failure mode where a thread or threads wait for a condition that never occurs.\n",
    "\n",
    "The result is that the deadlock threads are unable to progress and the program is stuck or frozen and must be terminated forcefully.\n",
    "\n",
    "Common examples of the cause of threading deadlocks include:\n",
    "\n",
    "A thread that waits on itself (e.g. attempts to acquire the same mutex lock twice).\n",
    "Threads that wait on each other (e.g. A waits on B, B waits on A).\n",
    "Thread that fails to release a resource (e.g. mutex lock, semaphore, barrier, condition, event, etc.).\n",
    "Threads that acquire mutex locks in different orders (e.g. fail to perform lock ordering).\n",
    "\n",
    "Deadlocks may be easy to describe, but hard to detect in an application just from reading code.\n",
    "\n",
    "It is important to develop an intuition for the causes of different deadlocks. This will help you identify deadlocks in your own code and trace down the causes of those deadlocks that you may encounter.\n"
   ]
  },
  {
   "cell_type": "code",
   "execution_count": null,
   "id": "f298f128",
   "metadata": {},
   "outputs": [],
   "source": []
  }
 ],
 "metadata": {
  "kernelspec": {
   "display_name": "Python 3 (ipykernel)",
   "language": "python",
   "name": "python3"
  },
  "language_info": {
   "codemirror_mode": {
    "name": "ipython",
    "version": 3
   },
   "file_extension": ".py",
   "mimetype": "text/x-python",
   "name": "python",
   "nbconvert_exporter": "python",
   "pygments_lexer": "ipython3",
   "version": "3.9.13"
  }
 },
 "nbformat": 4,
 "nbformat_minor": 5
}
