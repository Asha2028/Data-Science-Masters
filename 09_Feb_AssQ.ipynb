{
 "cells": [
  {
   "cell_type": "raw",
   "id": "7c1c9fda",
   "metadata": {},
   "source": [
    "Q1. Create a vehicle class with an init method having instance variables as name_of_vehicle, max_speed\n",
    "and average_of_vehicle."
   ]
  },
  {
   "cell_type": "code",
   "execution_count": 82,
   "id": "1e5f5061",
   "metadata": {},
   "outputs": [],
   "source": [
    "class vehicle:\n",
    "    \n",
    "    def __init__(self,name_of_vehicle, max_speed, average_of_vehicle):\n",
    "        self.name_of_vehicle = name_of_vehicle\n",
    "        self.max_speed = max_speed\n",
    "        self.average_of_vehicle = average_of_vehicle\n",
    "        \n",
    "        \n",
    "# obj_vehicle = vehicle(\"Swift\", 1000, 90)"
   ]
  },
  {
   "cell_type": "code",
   "execution_count": 77,
   "id": "05c61758",
   "metadata": {},
   "outputs": [
    {
     "data": {
      "text/plain": [
       "1000"
      ]
     },
     "execution_count": 77,
     "metadata": {},
     "output_type": "execute_result"
    }
   ],
   "source": [
    "obj_vehicle.max_speed"
   ]
  },
  {
   "cell_type": "raw",
   "id": "ab899d5b",
   "metadata": {},
   "source": [
    "Q2. Create a child class car from the vehicle class created in Que 1, which will inherit the vehicle class.\n",
    "\n",
    "Create a method named seating_capacity which takes capacity as an argument and returns the name of the vehicle and its seating capacity."
   ]
  },
  {
   "cell_type": "code",
   "execution_count": 138,
   "id": "5fd85a28",
   "metadata": {},
   "outputs": [],
   "source": [
    "class Child(vehicle):\n",
    "    \n",
    "    def seating_capacity(self,capacity):\n",
    "        self.capacity = capacity\n",
    "        return self.name_of_vehicle, self.capacity\n",
    "        \n",
    "    "
   ]
  },
  {
   "cell_type": "code",
   "execution_count": 143,
   "id": "1b95462e",
   "metadata": {},
   "outputs": [],
   "source": [
    "obj_child = Child(\"XUV\", 1000, 90).seating_capacity(5)"
   ]
  },
  {
   "cell_type": "code",
   "execution_count": 144,
   "id": "96112ad5",
   "metadata": {},
   "outputs": [
    {
     "name": "stdout",
     "output_type": "stream",
     "text": [
      "('XUV', 5)\n"
     ]
    }
   ],
   "source": [
    "print(obj_child)"
   ]
  },
  {
   "cell_type": "raw",
   "id": "38bd8963",
   "metadata": {},
   "source": [
    "Q3. What is multiple inheritance? Write a python code to demonstrate multiple inheritance."
   ]
  },
  {
   "cell_type": "raw",
   "id": "75d683cb",
   "metadata": {},
   "source": [
    "Ans:\n",
    "    A class can be derived/inherited from more than one superclass in Python. This is called multiple inheritance."
   ]
  },
  {
   "cell_type": "code",
   "execution_count": 147,
   "id": "19095b12",
   "metadata": {},
   "outputs": [
    {
     "name": "stdout",
     "output_type": "stream",
     "text": [
      "University:  CBSCE\n",
      "School:  NSVK\n"
     ]
    }
   ],
   "source": [
    " # Example: Multiple iheritance\n",
    "\n",
    "class University:\n",
    "    unv_name = \"\"\n",
    "    def university(self):\n",
    "        print(self.unv_name)\n",
    "        \n",
    "class School:\n",
    "    school_name = \"\"\n",
    "    def school(self):\n",
    "        print(self.school_name)\n",
    "\n",
    "class Student(University,School):\n",
    "    def student(self):\n",
    "        print(\"University: \",self.unv_name)\n",
    "        print(\"School: \",self.school_name)\n",
    "\n",
    "s1 = Student()\n",
    "s1.unv_name=\"CBSCE\"\n",
    "s1.school_name=\"NSVK\"\n",
    "s1.student()"
   ]
  },
  {
   "cell_type": "raw",
   "id": "b488cfe1",
   "metadata": {},
   "source": [
    "Q4. What are getter and setter in python? Create a class and create a getter and a setter method in this class."
   ]
  },
  {
   "cell_type": "raw",
   "id": "4b125918",
   "metadata": {},
   "source": [
    "Ans:\n",
    "    the main purpose of using getters and setters in object oriented programs is to ensure data encapsulation. Getters and Setters in python are often used when:\n",
    "    1. We use getters & setters to add validation logic around getting and setting a value.\n",
    "    2. To avoid direct access of a class field i.e. private variables cannot be accessed directly or modified by external user."
   ]
  },
  {
   "cell_type": "code",
   "execution_count": 151,
   "id": "5637afcb",
   "metadata": {},
   "outputs": [],
   "source": [
    "class Car:\n",
    "    def __init__(self,year,model,speed):\n",
    "        self.__year = year\n",
    "        self.__model = model\n",
    "        self.__speed = 0\n",
    "    \n",
    "    def setSpeed(self,speed):\n",
    "        self.__speed = 0 if speed < 0 else speed\n",
    "    \n",
    "    def getSpeed(self):\n",
    "        return self.__speed"
   ]
  },
  {
   "cell_type": "code",
   "execution_count": 152,
   "id": "915520ca",
   "metadata": {},
   "outputs": [],
   "source": [
    "car_obj = Car(2021,\"XUV\", 50)"
   ]
  },
  {
   "cell_type": "code",
   "execution_count": 153,
   "id": "5895a162",
   "metadata": {},
   "outputs": [
    {
     "data": {
      "text/plain": [
       "0"
      ]
     },
     "execution_count": 153,
     "metadata": {},
     "output_type": "execute_result"
    }
   ],
   "source": [
    "car_obj.getSpeed()"
   ]
  },
  {
   "cell_type": "code",
   "execution_count": 154,
   "id": "5a623824",
   "metadata": {},
   "outputs": [],
   "source": [
    "car_obj.setSpeed(90)"
   ]
  },
  {
   "cell_type": "code",
   "execution_count": 155,
   "id": "77be5397",
   "metadata": {},
   "outputs": [
    {
     "data": {
      "text/plain": [
       "90"
      ]
     },
     "execution_count": 155,
     "metadata": {},
     "output_type": "execute_result"
    }
   ],
   "source": [
    "car_obj.getSpeed()"
   ]
  },
  {
   "cell_type": "raw",
   "id": "7e1844cf",
   "metadata": {},
   "source": [
    "Q5.What is method overriding in python? Write a python code to demonstrate method overriding."
   ]
  },
  {
   "cell_type": "raw",
   "id": "d6248953",
   "metadata": {},
   "source": [
    "Ans:\n",
    "    When a method in a subclass has the same name, same parameters or signature and same return type(or sub-type) as a method in its super-class, then the method in the subclass is said to override the method in the super-class."
   ]
  },
  {
   "cell_type": "code",
   "execution_count": null,
   "id": "f581eac0",
   "metadata": {},
   "outputs": [],
   "source": [
    "class Vehicle:\n",
    "    def __init__(self,name,model):\n",
    "        self.name = name\n",
    "        self.model = model\n",
    "    \n",
    "    def speed(self):\n",
    "        print(self.name)\n",
    "        \n",
    "class Car(Vehicle):\n",
    "    \n",
    "    def speed(self):\n",
    "        print"
   ]
  }
 ],
 "metadata": {
  "kernelspec": {
   "display_name": "Python 3 (ipykernel)",
   "language": "python",
   "name": "python3"
  },
  "language_info": {
   "codemirror_mode": {
    "name": "ipython",
    "version": 3
   },
   "file_extension": ".py",
   "mimetype": "text/x-python",
   "name": "python",
   "nbconvert_exporter": "python",
   "pygments_lexer": "ipython3",
   "version": "3.9.13"
  }
 },
 "nbformat": 4,
 "nbformat_minor": 5
}
