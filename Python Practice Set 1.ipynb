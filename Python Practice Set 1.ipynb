{
 "cells": [
  {
   "cell_type": "markdown",
   "id": "421dcd9f",
   "metadata": {},
   "source": [
    "Q1. Write a Python program that defines a function called \"add_numbers\" that takes two arguments (i.e.,\n",
    "numbers) and returns their sum. Within the function, add the two numbers together and return the result\n",
    "using the return statement. Call the function with the values 5 and 6, and print out the returned result.\n",
    "This will result in the addition of 5 and 6, with the output of the program being the sum of these two\n",
    "numbers."
   ]
  },
  {
   "cell_type": "code",
   "execution_count": 4,
   "id": "dcad5e92",
   "metadata": {},
   "outputs": [
    {
     "data": {
      "text/plain": [
       "11"
      ]
     },
     "execution_count": 4,
     "metadata": {},
     "output_type": "execute_result"
    }
   ],
   "source": [
    "def add_numbers(num1 , num2):\n",
    "    sum = num1+num2\n",
    "    return sum\n",
    "\n",
    "add_numbers(5,6)"
   ]
  },
  {
   "cell_type": "markdown",
   "id": "69971ba5",
   "metadata": {},
   "source": [
    "Q2. Write a Python program that calculates the square root of a given number using a built-in function.\n",
    "Specifically, the program should take an integer or float input from the user, calculate its square root\n",
    "using the 'sqrt()' function from the 'math' module, and print out the result to the user. As an example,\n",
    "calculate the square root of the number 625 using this program, which should output the value of 25."
   ]
  },
  {
   "cell_type": "code",
   "execution_count": 20,
   "id": "66bbb0f2",
   "metadata": {},
   "outputs": [
    {
     "name": "stdout",
     "output_type": "stream",
     "text": [
      "Enter the number: 625\n"
     ]
    },
    {
     "data": {
      "text/plain": [
       "25.0"
      ]
     },
     "execution_count": 20,
     "metadata": {},
     "output_type": "execute_result"
    }
   ],
   "source": [
    "import math\n",
    "number = eval(input(\"Enter the number: \"))\n",
    "math.sqrt(number)\n",
    "    "
   ]
  },
  {
   "cell_type": "markdown",
   "id": "4feb9282",
   "metadata": {},
   "source": [
    "Q3.Write a program that prints all prime numbers between 0 to 50."
   ]
  },
  {
   "cell_type": "code",
   "execution_count": 23,
   "id": "95fdd294",
   "metadata": {},
   "outputs": [
    {
     "data": {
      "text/plain": [
       "[2, 3, 5, 7, 11, 13, 17, 19, 23, 29, 31, 37, 41, 43, 47]"
      ]
     },
     "execution_count": 23,
     "metadata": {},
     "output_type": "execute_result"
    }
   ],
   "source": [
    "def list_prime(lower_index, higher_index):\n",
    "    lst = []\n",
    "    for i in range(lower_index,higher_index):\n",
    "        if i == 0 or i == 1:\n",
    "            continue\n",
    "        else:\n",
    "            for j in range(2, int(i/2)+1):\n",
    "                if i%j == 0:\n",
    "                    break\n",
    "            else:\n",
    "                lst.append(i)\n",
    "    return lst\n",
    "\n",
    "list_prime(lower_index = 0, higher_index = 50)"
   ]
  },
  {
   "cell_type": "markdown",
   "id": "9a085d75",
   "metadata": {},
   "source": [
    "Q4.How can we swap the values of three variables (let's say a, b, and c) without using a fourth variable?\n",
    "For example, if we have a=5, b=8, and c=9, how can we obtain a=9, b=5, and c=8? The challenge is to\n",
    "perform this operation without using an additional variable to store any of the values during the\n",
    "swapping process."
   ]
  },
  {
   "cell_type": "code",
   "execution_count": 27,
   "id": "b29bc1c6",
   "metadata": {},
   "outputs": [
    {
     "name": "stdout",
     "output_type": "stream",
     "text": [
      "9 5 8\n"
     ]
    }
   ],
   "source": [
    "a,b,c = 5,8,9\n",
    "a,b,c = c,a,b\n",
    "print(a,b,c)"
   ]
  },
  {
   "cell_type": "markdown",
   "id": "99f4a819",
   "metadata": {},
   "source": [
    "Q5. Can you write a program that determines the nature of a given number (in this case, 87) as being\n",
    "positive, negative, or zero? The program should be designed to take the number as input and perform the\n",
    "necessary calculations to determine if the number is positive (i.e., greater than zero), negative (i.e., less\n",
    "than zero), or zero (i.e., equal to zero). The output of the program should indicate which of these three\n",
    "categories the given number falls into."
   ]
  },
  {
   "cell_type": "code",
   "execution_count": 31,
   "id": "6385649f",
   "metadata": {},
   "outputs": [
    {
     "name": "stdout",
     "output_type": "stream",
     "text": [
      "Enter the number: 87\n",
      "The number is positive\n"
     ]
    }
   ],
   "source": [
    "number = int(input(\"Enter the number: \"))\n",
    "if number > 0:\n",
    "    print(\"The number is positive\")\n",
    "elif number < 0:\n",
    "    print(\"The number is negative\")\n",
    "else:\n",
    "    print(\"The number is zero\")"
   ]
  },
  {
   "cell_type": "markdown",
   "id": "35a3771b",
   "metadata": {},
   "source": [
    "Q6. How can you create a program that determines whether a given number (in this case, 98) is even or\n",
    "odd? The program should be designed to take the number as input and perform the necessary\n",
    "calculations to determine whether it is divisible by two. If the number is divisible by two without leaving a\n",
    "remainder, it is an even number, and if there is a remainder, it is an odd number. The output of the\n",
    "program should indicate whether the given number is even or odd."
   ]
  },
  {
   "cell_type": "code",
   "execution_count": 34,
   "id": "3ede61ff",
   "metadata": {},
   "outputs": [
    {
     "name": "stdout",
     "output_type": "stream",
     "text": [
      "Enter the number: 98\n"
     ]
    },
    {
     "data": {
      "text/plain": [
       "'The number is even'"
      ]
     },
     "execution_count": 34,
     "metadata": {},
     "output_type": "execute_result"
    }
   ],
   "source": [
    "def even_or_odd(number):\n",
    "    if number % 2 == 0:\n",
    "        return \"The number is even\"\n",
    "    else:\n",
    "        return \"The number is odd\"\n",
    "    \n",
    "even_or_odd(int(input(\"Enter the number: \")))"
   ]
  },
  {
   "cell_type": "markdown",
   "id": "aeb694ac",
   "metadata": {},
   "source": [
    "Q7.Write a program for sum of digits.the digits are 76543 and the output should be 25."
   ]
  },
  {
   "cell_type": "code",
   "execution_count": 54,
   "id": "c26c7a23",
   "metadata": {},
   "outputs": [
    {
     "name": "stdout",
     "output_type": "stream",
     "text": [
      "Enter the user input: 76543\n"
     ]
    },
    {
     "data": {
      "text/plain": [
       "25"
      ]
     },
     "execution_count": 54,
     "metadata": {},
     "output_type": "execute_result"
    }
   ],
   "source": [
    "def sum_digits(number):\n",
    "    sum = 0\n",
    "    while number!=0:\n",
    "        sum += int(number%10)\n",
    "        number = int(number/10)\n",
    "    return sum\n",
    "\n",
    "sum_digits(int(input(\"Enter the user input: \")))"
   ]
  },
  {
   "cell_type": "markdown",
   "id": "9975df82",
   "metadata": {},
   "source": [
    "Q8.Write a program for reversing the given number 5436 and the output should be 6345."
   ]
  },
  {
   "cell_type": "code",
   "execution_count": 60,
   "id": "7f8e2d23",
   "metadata": {},
   "outputs": [
    {
     "name": "stdout",
     "output_type": "stream",
     "text": [
      "Enter the user input: 5436\n"
     ]
    },
    {
     "data": {
      "text/plain": [
       "6345"
      ]
     },
     "execution_count": 60,
     "metadata": {},
     "output_type": "execute_result"
    }
   ],
   "source": [
    "def reverse_number(number):\n",
    "    number_reversed = 0\n",
    "    while number!= 0:\n",
    "        digit = number % 10\n",
    "        number_reversed = number_reversed*10 + digit\n",
    "        number //=10\n",
    "    return number_reversed\n",
    "    \n",
    "reverse_number(int(input(\"Enter the user input: \")))"
   ]
  },
  {
   "cell_type": "markdown",
   "id": "dbed303d",
   "metadata": {},
   "source": [
    "Q9.Write a program to check if a given number 371 is an Armstrong number?"
   ]
  },
  {
   "cell_type": "code",
   "execution_count": 67,
   "id": "0f7e7f6f",
   "metadata": {},
   "outputs": [
    {
     "name": "stdout",
     "output_type": "stream",
     "text": [
      "Enter the number: 157\n"
     ]
    },
    {
     "data": {
      "text/plain": [
       "'Not Armstrong number'"
      ]
     },
     "execution_count": 67,
     "metadata": {},
     "output_type": "execute_result"
    }
   ],
   "source": [
    "def armstrong_num(n):\n",
    "    length = len(n)\n",
    "    number = int(n)\n",
    "    sum = 0\n",
    "    while number!=0:\n",
    "        digit = number%10\n",
    "        sum +=(digit**length)\n",
    "        number //= 10\n",
    "    if str(sum) == n:\n",
    "        return \"Armstrong Number\"\n",
    "    else:\n",
    "        return \"Not Armstrong number\"\n",
    "\n",
    "armstrong_num(input(\"Enter the number: \"))"
   ]
  },
  {
   "cell_type": "markdown",
   "id": "352cf15c",
   "metadata": {},
   "source": [
    "Q10.Write a program the given year is 1996, a leap year."
   ]
  },
  {
   "cell_type": "code",
   "execution_count": 72,
   "id": "b5d91839",
   "metadata": {},
   "outputs": [
    {
     "name": "stdout",
     "output_type": "stream",
     "text": [
      "Enter the year: 1996\n"
     ]
    },
    {
     "data": {
      "text/plain": [
       "'Leap year'"
      ]
     },
     "execution_count": 72,
     "metadata": {},
     "output_type": "execute_result"
    }
   ],
   "source": [
    "def leap_year(year):\n",
    "    if (year % 4 == 0) or (year % 400 == 0) and (year % 100 != 0):\n",
    "        return \"Leap year\"\n",
    "    else:\n",
    "        return \"Not Leap year\"\n",
    "\n",
    "leap_year (int(input(\"Enter the year: \")))\n"
   ]
  },
  {
   "cell_type": "code",
   "execution_count": null,
   "id": "6d3bfde5",
   "metadata": {},
   "outputs": [],
   "source": []
  }
 ],
 "metadata": {
  "kernelspec": {
   "display_name": "Python 3 (ipykernel)",
   "language": "python",
   "name": "python3"
  },
  "language_info": {
   "codemirror_mode": {
    "name": "ipython",
    "version": 3
   },
   "file_extension": ".py",
   "mimetype": "text/x-python",
   "name": "python",
   "nbconvert_exporter": "python",
   "pygments_lexer": "ipython3",
   "version": "3.9.13"
  }
 },
 "nbformat": 4,
 "nbformat_minor": 5
}
