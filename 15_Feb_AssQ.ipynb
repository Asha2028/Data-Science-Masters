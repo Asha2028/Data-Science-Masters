{
 "cells": [
  {
   "cell_type": "raw",
   "id": "80f46177-d4a8-4dc5-89b9-78c3c1d8a347",
   "metadata": {},
   "source": [
    "Q1. What is multiprocessing in python? Why is it useful?"
   ]
  },
  {
   "cell_type": "raw",
   "id": "dff406ee-0897-499d-baea-58b7b5fc87ca",
   "metadata": {},
   "source": [
    "Ans:\n",
    "    Multiprocessing refers to the ability of a system to support more than one processor at the same time. Applications in a multiprocessing system are broken into a smaller routines that run independently. The operating system allocates these threads to the processors improving performance of the system.\n",
    "    \n",
    "    A multiprocessing system can have:\n",
    "        1. multiprocessor, that is a computer with more than one central processor\n",
    "        2. Multi-core processor, that is a single computing component with two or more independent actual processing units( called cores)\n",
    "        \n",
    "    In python, the multiprocessing module includes a very simple and intuitive API for dividing work between multiple processes."
   ]
  },
  {
   "cell_type": "code",
   "execution_count": null,
   "id": "cf219e6b-368c-437e-8b5e-bc2b2c316eaa",
   "metadata": {},
   "outputs": [],
   "source": [
    "#Example - multiprocessing\n",
    "\n",
    "import multiprocessing\n",
    "\n",
    "def cube_func(n):\n",
    "    print(\"Cube of the given number is {}\".format(n**3))\n",
    "    \n",
    "def square_func(n):\n",
    "    print(\"Square of the given number is {}\".format(n**2))\n",
    "    \n",
    "if __name__ == \"__main__\" :\n",
    "    p1 = multiprocessing.Process(target=cube_func,args=(5,))\n",
    "    p2 = multiprocessing.Process(target=square_func,args=(5,))\n",
    "    \n",
    "    p1.start()\n",
    "    p2.start()\n",
    "    \n",
    "    p1.join()\n",
    "    p2.join()\n",
    "    \n",
    "    print(\"Both the processors are finished\")\n",
    "    "
   ]
  },
  {
   "cell_type": "raw",
   "id": "b5e95fd9-7cdb-48e4-b14c-00f954309dcf",
   "metadata": {},
   "source": [
    "Q2. What are the differences between multiprocessing and multithreading?"
   ]
  },
  {
   "cell_type": "raw",
   "id": "eb9c105e-5c80-49b6-8368-a3b194143ae6",
   "metadata": {},
   "source": [
    "Ans:\n",
    "    Both Multiprocessing and Multithreading are used to increase the computing power of a system. \n",
    "    \n",
    "    Multiprocessing: Multiprocessing is a system that has more than one or two processors. In Multiprocessing, CPUs are added for increasing computing speed of the system. Because of Multiprocessing, There are many processes are executed simultaneously. Multiprocessing are classified into two categories:\n",
    "\n",
    "1. Symmetric Multiprocessing\n",
    "2. Asymmetric Multiprocessing \n",
    "\n",
    "Multithreading: Multithreading is a system in which multiple threads are created of a process for increasing the computing speed of the system. In multithreading, many threads of a process are executed simultaneously and process creation in multithreading is done according to economical. \n",
    "\n",
    "MULTIPROCESSING\n",
    "\n",
    "1. The CPUs are added for increasing the computing power.\n",
    "2. Many processors are executed simultaneously.\n",
    "3. Multiprocessing are classified into Symmetric and Asymmetric.\n",
    "4. In Multiprocessing, Process creation is a time-consuming process.\n",
    "5. In multiprocessing, every process owned a separate address space/ memory space.\n",
    "\n",
    "MULTITHREADING\n",
    "\n",
    "1. Many threads are created of a single process for increasing computing power.\n",
    "2. Many threads of a process are executed simultaneously.\n",
    "3. Multithreading is not classified in any categories.\n",
    "4. In multithreading, process creation is according to economical.\n",
    "5. In multithreading, a common address space is shared by all the threads.\n"
   ]
  },
  {
   "cell_type": "raw",
   "id": "f725b898-f9eb-4584-89dc-ed01163e9323",
   "metadata": {},
   "source": [
    "Q3. Write a python code to create a process using the multiprocessing module."
   ]
  },
  {
   "cell_type": "code",
   "execution_count": null,
   "id": "41d8b1df-8279-436d-9a55-4683cf9987ca",
   "metadata": {},
   "outputs": [],
   "source": [
    "import multiprocessing\n",
    "\n",
    "def producer(q):\n",
    "    for i in [\"asha\", \"kumar\", \"pwskills\", \"krish\",\"naik\"]:\n",
    "        q.put(i)\n",
    "              \n",
    "def consume(q):\n",
    "      while True:\n",
    "          item = q.get()\n",
    "          if item is None:\n",
    "              break\n",
    "          print(item)\n",
    "        \n",
    "if __name__ == '__main__':\n",
    "    queue = multiprocessing.Queue()\n",
    "    m1 = multiprocessing.Process(target=producer, args=(queue,))\n",
    "    m2 = multiprocessing.Process(target=consume, args = (queue,))\n",
    "    \n",
    "    m1.start()\n",
    "    m2.start()\n",
    "    queue.put(\"xyz\")\n",
    "    m1.join()\n",
    "    m2.join()"
   ]
  },
  {
   "cell_type": "raw",
   "id": "5aa1f6bf-7b72-4278-8bb5-8db701ee02a8",
   "metadata": {},
   "source": [
    "Q4. What is a multiprocessing pool in python? Why is it used?"
   ]
  },
  {
   "cell_type": "raw",
   "id": "20cab0a3-a3e4-49a1-88c3-c4e33029b9e2",
   "metadata": {},
   "source": [
    "Ans:\n",
    "    To utilize all the cores, multiprocessing module provides a Pool class. The Pool class represents a pool of worker processes. It has methods which allows tasks to be offloaded to the worker processes in a few different ways. \n",
    "    The given task is offloaded/distributed among the cores/processes automatically by Pool object. User doesn’t need to worry about creating processes explicitly.\n",
    "    \n",
    "    "
   ]
  },
  {
   "cell_type": "code",
   "execution_count": 7,
   "id": "a4bae74e-e0cb-48cd-a94b-8c56452b6b1b",
   "metadata": {},
   "outputs": [
    {
     "name": "stdout",
     "output_type": "stream",
     "text": [
      "[1, 4, 9, 16, 25]\n"
     ]
    }
   ],
   "source": [
    "#Example:\n",
    "\n",
    "import multiprocessing, os\n",
    "\n",
    "def square(n):\n",
    "    return n*n\n",
    "\n",
    "if __name__ == \"__main__\":\n",
    "    l = [1,2,3,4,5]\n",
    "    p = multiprocessing.Pool()\n",
    "    res = p.map(square,l)\n",
    "    print(res)"
   ]
  },
  {
   "cell_type": "raw",
   "id": "7e2f9afb-f78c-4341-a5f3-3c8aefe335b4",
   "metadata": {},
   "source": [
    "Q5. How can we create a pool of worker processes in python using the multiprocessing module?"
   ]
  },
  {
   "cell_type": "code",
   "execution_count": 2,
   "id": "00ebdf3a-c487-4a27-8c38-2add4190e526",
   "metadata": {},
   "outputs": [
    {
     "name": "stdout",
     "output_type": "stream",
     "text": [
      "[1, 4, 9, 2025, 25]\n"
     ]
    }
   ],
   "source": [
    "import multiprocessing\n",
    "\n",
    "def square(n):\n",
    "    return n**2\n",
    "\n",
    "if __name__ == '__main__' :\n",
    "    with multiprocessing.Pool(processes=5) as pool:\n",
    "        out = pool.map(square, [1,2,3,45,5])\n",
    "        print(out)"
   ]
  },
  {
   "cell_type": "raw",
   "id": "ecd8d5fb-e209-4f04-8f36-f227713d58dc",
   "metadata": {},
   "source": [
    "Q6. Write a python program to create 4 processes, each process should print a different number using the multiprocessing module in python."
   ]
  },
  {
   "cell_type": "code",
   "execution_count": 6,
   "id": "ee5f4782-032b-4311-b257-3bf9c182fde5",
   "metadata": {},
   "outputs": [
    {
     "name": "stdout",
     "output_type": "stream",
     "text": [
      "Main Process Id 600\n",
      "Worker1 process running 954\n",
      "Worker2 process running 957\n",
      "Worker3 process running 964\n",
      "Worker4 process running 967\n",
      "All the processors are finished executing.\n",
      "Process P1 P2 P3 P4 is alive: P1 = False, p2 =False, P3 = False, P4 = False\n"
     ]
    }
   ],
   "source": [
    "import multiprocessing, os\n",
    "\n",
    "def worker1():\n",
    "    print(\"Worker1 process running {}\".format(os.getpid()))\n",
    "    \n",
    "    \n",
    "def worker2():\n",
    "    print(\"Worker2 process running {}\".format(os.getpid()))\n",
    "    \n",
    "    \n",
    "def worker3():\n",
    "    print(\"Worker3 process running {}\".format(os.getpid()))\n",
    "    \n",
    "    \n",
    "def worker4():\n",
    "    print(\"Worker4 process running {}\".format(os.getpid()))\n",
    "    \n",
    "\n",
    "if __name__ == \"__main__\" :\n",
    "    \n",
    "    print(\"Main Process Id {}\".format(os.getpid()))\n",
    "    \n",
    "    p1 = multiprocessing.Process(target=worker1)\n",
    "    p2 = multiprocessing.Process(target=worker2)\n",
    "    p3 = multiprocessing.Process(target=worker3)\n",
    "    p4 = multiprocessing.Process(target=worker4)\n",
    "    \n",
    "    p1.start()\n",
    "    p2.start()\n",
    "    p3.start()\n",
    "    p4.start()\n",
    "    \n",
    "    p1.join()\n",
    "    p2.join()\n",
    "    p3.join()\n",
    "    p4.join()\n",
    "    \n",
    "    print(\"All the processors are finished executing.\")\n",
    "    \n",
    "    #to check whether the processors are alive\n",
    "    \n",
    "    print(\"Process P1 P2 P3 P4 is alive: P1 = {p1}, p2 ={p2}, P3 = {p3}, P4 = {p4}\".format(p1 = p1.is_alive(), p2 = p2.is_alive(), p3 = p3.is_alive(), p4 = p4.is_alive()))\n",
    "    \n",
    "    \n",
    "\n",
    "          "
   ]
  },
  {
   "cell_type": "code",
   "execution_count": null,
   "id": "e153ce51-5222-44fb-b83f-e70ac2a0e6d9",
   "metadata": {},
   "outputs": [],
   "source": []
  }
 ],
 "metadata": {
  "kernelspec": {
   "display_name": "Python 3 (ipykernel)",
   "language": "python",
   "name": "python3"
  },
  "language_info": {
   "codemirror_mode": {
    "name": "ipython",
    "version": 3
   },
   "file_extension": ".py",
   "mimetype": "text/x-python",
   "name": "python",
   "nbconvert_exporter": "python",
   "pygments_lexer": "ipython3",
   "version": "3.10.8"
  }
 },
 "nbformat": 4,
 "nbformat_minor": 5
}
