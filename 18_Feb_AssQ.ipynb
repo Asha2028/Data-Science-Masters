{
 "cells": [
  {
   "cell_type": "markdown",
   "id": "f543fc3c",
   "metadata": {},
   "source": [
    "Q1. What is an API? Give an example, where an API is used in real life."
   ]
  },
  {
   "cell_type": "markdown",
   "id": "74f5aea8",
   "metadata": {},
   "source": [
    "Ans:\n",
    "    \n",
    "    API standa for Application Programming Interface, which is a set of definitions and protocols for building and integrating application software.\n",
    "    \n",
    "For example,\n",
    "1. Weather bureau's software system contains daily weather data. The weather app on our phone \"talks\" to this system via API and shows you daily wather updates on phone.\n",
    "2. Travel booking\n",
    "3. Google Pay\n",
    "4. Google Maps\n",
    "5. E-Commerce\n",
    "6. WhatsApp\n",
    "7. Slack\n",
    "8. Amazon Alexa\n",
    "9. Facebook"
   ]
  },
  {
   "cell_type": "markdown",
   "id": "c0711c03",
   "metadata": {},
   "source": [
    "Q2. Give advantages and disadvantages of using API."
   ]
  },
  {
   "cell_type": "markdown",
   "id": "87814168",
   "metadata": {},
   "source": [
    "Ans:\n",
    "    \n",
    "Advantages:\n",
    "    \n",
    "1. Increased Interoperability: API solutions enable different software systems to communicate with each other, regardless of their programming language or platform. This enhances the interoperability between systems, allowing for the exchange of data and functionality.\n",
    "\n",
    "2. Improved Efficiency: API driven infrastructures enable developers to reuse code and functionality from existing software systems, saving time and reducing the amount of code that needs to be written from scratch.\n",
    "\n",
    "3. Better User Experience: APIs can enable third-party developers to create applications that integrate with existing software systems, providing a better user experience and increased functionality.\n",
    "\n",
    "4. Increased Flexibility: APIs provide developers with greater flexibility, enabling them to choose the best programming languages and frameworks for their needs.\n",
    "\n",
    "5. New Revenue Streams: APIs can enable companies to create new revenue streams by providing third party developers with acess to their software systems.\n",
    "\n",
    "Disadvantages:\n",
    "\n",
    "1. Security concerns: API infrastructures can be vulnerable to security breaches, such as SQL injection attacks and cross-site scripting (XSS) attacks, making it crucial to implement security measures to protect against these threats.\n",
    "\n",
    "2. Complexity: APIs can be complex, requiring a significant amount of development effort to implement and maintain.\n",
    "\n",
    "3. Compatibility issues: APIs can have compatibility issues between different versions of the same software systems or between different systems, which can lead to error and system failures.\n",
    "\n",
    "4. Dependency on Third party Developers: APIs rely on third party developers to create applications that integrate with the software system. This can create dependencies that are outside of the control of the company that owns the software system.\n",
    "\n",
    "5. Governance and Management: APIs require proper governance and management to ensure they are being used correctly and consistently across different applications and systems.\n",
    "    "
   ]
  },
  {
   "cell_type": "markdown",
   "id": "22c064b0",
   "metadata": {},
   "source": [
    "Q3. What is a Web API? Differentiate between API and Web API."
   ]
  },
  {
   "cell_type": "markdown",
   "id": "db7849cc",
   "metadata": {},
   "source": [
    "Ans:\n",
    "\n",
    "Web API:\n",
    "    A Web API or Web Service API is an application processing interface between a web server and web browser. All web services are APIs but not all APIs are web services. \n",
    "    Basically Web API is a web development concept. It is limited to Web Application’s client-side and also it does not include a web server or web browser details. If an application is to be used on a distributed system and to provide services on different devices like laptops, mobiles, etc then web API services are used. Web API is the enhanced form of the web application.\n",
    " \n",
    "Difference between Web API and API:\n",
    "\n",
    "Web Services/ Web API:\n",
    "\n",
    "1. Web Services are type of API which must be accessed through a network connection.\n",
    "\n",
    "2. Web services are used for REST, SOAP and XML-RPC for communication.\n",
    "\n",
    "3. All web services are API.\n",
    "\n",
    "4. It doesn't have light weight design, needs a SOAP convention to send or recieve data over the system\n",
    "\n",
    "5. It is not open source, however, can be devoured by any customer that comprehends xml.\n",
    "\n",
    "6. Web service supports only XML.\n",
    "\n",
    "7. Web Services can be hosted on IIS.\n",
    "\n",
    "API:\n",
    "\n",
    "1. API are application interfaces, implying that one application can communicate with another application in a standardized manner.\n",
    "\n",
    "2. API is used for any style of communication.\n",
    "\n",
    "3. All APIs are not web services.\n",
    "\n",
    "4. It has a light-weight architecture furthermore, useful for gadgets which have constrained transmission capacity like smart phones.\n",
    "\n",
    "5. It provides support for the HTTP/s protocol: URL Request/Response Headers and so on\n",
    "\n",
    "6. It is an open source and also ships with .NET framework.\n",
    "\n",
    "7. API supports XML and JSON\n",
    "\n",
    "8. Web API can be hosted only on IIS and self\n"
   ]
  },
  {
   "cell_type": "markdown",
   "id": "b28b57f3",
   "metadata": {},
   "source": [
    "Q4. Explain REST and SOAP Architecture. Mention shortcomings of SOAP."
   ]
  },
  {
   "cell_type": "markdown",
   "id": "04fe83b5",
   "metadata": {},
   "source": [
    "Ans:\n",
    "\n",
    "REST (Representational State Transfer): It makes use of HTTP to GET, POST, PUT, or DELETE data. It is basically used to take advantage of the existing data.\n",
    "\n",
    "It follows the cionstraints of REST architecture allowing interaction with RESTful web services. It defines a set of functions(GET, PUT, POST, DELETE) that clients use to access server data. The functions used are:\n",
    "\n",
    "1. GET - retrieve a record\n",
    "2. PUT - Update a record\n",
    "3. POST - Create a record\n",
    "4. DELETE - Delete the record\n",
    "\n",
    "Its main feature is that REST API is statelessness that is the servers do not save client's data between requests.\n",
    "   \n",
    "SOAP (Simple Object Access Protocol): It defines messages in XML format used by web applications to communicate with each other.\n",
    "\n",
    "The SOAP web services architecture is based on interactions between three components: a service provider, a service requester, and an optional service registry.\n",
    "\n",
    "SOAP building blocks and message structure example\n",
    "Simple Object Access Protocol, as a specification, defines SOAP messages that are sent to web services and client applications. SOAP messages are XML documents that are comprised of the following three basic building blocks:\n",
    "\n",
    "1. The SOAP Envelope encapsulates all the data in a message and identifies the XML document as a SOAP message.\n",
    "2. The Header element contains additional information about the SOAP message. This information could be authentication credentials, for example, which are used by the calling application.\n",
    "3. The Body element includes the details of the actual message that need to be sent from the web service to the calling application. This data includes call and response information.\n",
    "\n",
    "The fault message is an optional fourth building block. If a SOAP fault is generated, it is returned as an HTTP 500 error. Fault messages contain a fault code, string, actor and detail.\n"
   ]
  },
  {
   "cell_type": "markdown",
   "id": "ccbad9bb",
   "metadata": {},
   "source": [
    "Q5. Differentiate between REST and SOAP."
   ]
  },
  {
   "cell_type": "markdown",
   "id": "4c7c146e",
   "metadata": {},
   "source": [
    "Ans:\n",
    "    \n",
    "SOAP:\n",
    "    \n",
    "1. SOAP(Simple Object Access Protocol) is a protocol with specific requirements like XML messaging.\n",
    "2. Heavier and needs more bandwidth.\n",
    "3. It defines its own security.\n",
    "4. It permits XML based data format only.\n",
    "5. SOAP calls cannot be cached\n",
    "\n",
    "REST:\n",
    "\n",
    "1. REST(Representational State Transfer) is a set of guidelines (architectural style) offering flexible implementation.\n",
    "2.Lightweight and needs less bandwidth.\n",
    "3. It inherits security from the underlying transport.\n",
    "4. It permits different data formats such as plain text, HTML, XML, JSON etc.\n",
    "5. REST calls can be cached\n"
   ]
  },
  {
   "cell_type": "code",
   "execution_count": null,
   "id": "4eb67fc6",
   "metadata": {},
   "outputs": [],
   "source": []
  }
 ],
 "metadata": {
  "kernelspec": {
   "display_name": "Python 3 (ipykernel)",
   "language": "python",
   "name": "python3"
  },
  "language_info": {
   "codemirror_mode": {
    "name": "ipython",
    "version": 3
   },
   "file_extension": ".py",
   "mimetype": "text/x-python",
   "name": "python",
   "nbconvert_exporter": "python",
   "pygments_lexer": "ipython3",
   "version": "3.9.13"
  }
 },
 "nbformat": 4,
 "nbformat_minor": 5
}
