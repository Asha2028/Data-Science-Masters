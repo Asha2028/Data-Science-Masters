{
 "cells": [
  {
   "cell_type": "markdown",
   "id": "650c0c0f",
   "metadata": {},
   "source": [
    "Q1. What is a database? Differentiate between SQL and NoSQL databases."
   ]
  },
  {
   "cell_type": "markdown",
   "id": "72a6cfc2",
   "metadata": {},
   "source": [
    "Ans:\n",
    "    \n",
    "Database: A database is an organized collection of structured information, or data, typically stored electronically in a computer system. A database is usually controlled by a database management system(DBMS).\n",
    "\n",
    "SQL(Structured Query Language): \n",
    "\n",
    "1. Type: SQL databases are primarily called as Relational Databases(RDBMS)\n",
    "2. Language: SQL requires you to use predefined schemas to determine the structure of your data before you work with it. Also all of your data must follow the same structure. This can require significant up-front preparation which means that a change in the structure would be both difficult and disruptive to your whole system. \n",
    "3. Scalability: SQL databases are vertically scalable. This means that you can increase the load on a single server by increasing things like RAM, CPU or SSD. \n",
    "4. Structure: SQL databases are table-based.\n",
    "5. Property followed: SQL databases follow ACID properties(Atomicity, Consistency, Isolation, and Durability)\n",
    "6. Support: Great support is available for all SQL database from their vendors. Also a lot of independent consultations are there who can help you with SQL database for a very large scale deployments.\n",
    "\n",
    "NoSQL(Not only Structured Query Language): \n",
    "\n",
    "1. Type: NoSQL database are primarily called as non-relational or distributed database.\n",
    "2. Language: A NoSQL database has dynamic schema for unstructured data.Data is stored in many ways which means it can be document-oriented, column-oriented, graph-based or organized as a KeyValue store. This flexibility means that documents can be created without having defined structure first. \n",
    "3. Scalability: NoSQL databases are horizontally scalable. This means that you handle more traffic by sharding, or adding more servers in your NoSQL database. Thus NoSQL can ultimately become larger and more powerful, making these databases the preferred choice for large or ever-changing data sets.\n",
    "4. Structure: NoSQL databases are either key-value pairs, document-based, graph databases or wide-column stores.\n",
    "5. Property followed: NoSQL follows the Brewers CAP theorem(Consistency, Availabilty and Partition tolerance)\n",
    "6. Support: NoSQL database you still have to rely on community support and only limited outside experts are available for setting up and deploying your large scale NoSQL deployments. \n",
    "\n"
   ]
  },
  {
   "cell_type": "markdown",
   "id": "f291f3fa",
   "metadata": {},
   "source": [
    "Q2. What is DDL? Explain why CREATE, DROP, ALTER, and TRUNCATE are used with an example."
   ]
  },
  {
   "cell_type": "markdown",
   "id": "cff59661",
   "metadata": {},
   "source": [
    "Ans:\n",
    "    \n",
    "DDL(Data Definition Language):\n",
    "    It is considered to be a subset of SQL. A data definition language (DDL) is a computer language used to create and modify the structure of database objects in a database. These database objects include views, schemas, tables, indexes, etc.\n",
    "    \n",
    "Commonly used DDL in SQL querying are CREATE, ALTER, DROP, and TRUNCATE.\n",
    "\n",
    "Create:\n",
    "\n",
    "CREATE TABLE [table name] ([column definitions]) [table parameters];\n",
    "\n",
    "For example:\n",
    "\n",
    "CREATE TABLE Employee (Employee Id INTEGER PRIMARY KEY, First name CHAR (50) NULL, Last name CHAR (75) NOT NULL);\n",
    "\n",
    "The mandatory semi-colon at the end of the statement is used to process every command before it. In this example, the string CHAR is used to specify the data type. Other data types can be DATE, NUMBER, or INTEGER.\n",
    "\n",
    "Alter:\n",
    "\n",
    "Alter\n",
    "An alter command modifies an existing database table. This command can add up additional column, drop existing columns and even change the data type of columns involved in a database table.\n",
    "\n",
    "An alter command syntax is:\n",
    "\n",
    "ALTER object type object name parameters;\n",
    "\n",
    "For example:\n",
    "\n",
    "ALTER TABLE Employee ADD PRIMARY KEY (employee_pk);\n",
    "\n",
    "In this example, we added a unique primary key to the table to add a constraint and enforce a unique value. The constraint “employee_pk” is a primary key and is on the Employee table.\n",
    "\n",
    "Drop:\n",
    "\n",
    "A drop command is used to delete objects such as a table, index or view. A DROP statement cannot be rolled back, so once an object is destroyed, there’s no way to recover it.\n",
    "\n",
    "Drop statement syntax is:\n",
    "\n",
    "DROP object type object name;\n",
    "\n",
    "For example:\n",
    "\n",
    "DROP TABLE Employee;\n",
    "\n",
    "In this example, we’re deleting the Employee table.\n",
    "\n",
    "Truncate:\n",
    "\n",
    "Similar to DROP, the TRUNCATE statement is used to quickly remove all records from a table. However, unlike DROP that completely destroys a table, TRUNCATE preserves its full structure to be reused later.\n",
    "\n",
    "Truncate statement syntax is:\n",
    "\n",
    "TRUNCATE TABLE table_name;\n",
    "\n",
    "For example:\n",
    "\n",
    "TRUNCATE TABLE Employee;\n",
    "\n",
    "In this example, we’re marking all the extents of the Employee table for deallocation, so they’re considered empty for reuse."
   ]
  },
  {
   "cell_type": "markdown",
   "id": "6c2bad87",
   "metadata": {},
   "source": [
    "Q3. What is DML? Explain INSERT, UPDATE, and DELETE with an example."
   ]
  },
  {
   "cell_type": "markdown",
   "id": "4dc5dc89",
   "metadata": {},
   "source": [
    "Ans:\n",
    "    \n",
    "DML: A data manipulation language (DML) is a family of computer languages including commands permitting users to manipulate data in a database. This manipulation involves inserting data into database tables, retrieving existing data, deleting data from existing tables and modifying existing data. DML is mostly incorporated in SQL databases.\n",
    "\n",
    "The functional capability of DML is organized in manipulation commands like SELECT, UPDATE, INSERT INTO and DELETE FROM, as described below:\n",
    "\n",
    "\n",
    "UPDATE: This command modifies data of one or more records. An update command syntax is UPDATE [table name] SET [column name = value] where [condition].\n",
    "\n",
    "Example: UPDATE Student SET Phone = 9039462901 WHERE Stu_Name = ’Phoebe’;\n",
    "\n",
    "INSERT: This command adds one or more records to a database table. The insert command syntax is INSERT INTO [table name] [column(s)] VALUES [value(s)].\n",
    "\n",
    "Example: INSERT INTO Student(Stu_Name, DOB, Phone, Mail) VALUES(‘Phoebe’, ‘1998-05-26’, 7812865845, ‘user@xyz.com’);\n",
    "\n",
    "DELETE: This command removes one or more records from a table according to specified conditions. Delete command syntax is DELETE FROM [table name] where [condition].\n",
    "\n",
    "Example: DELETE FROM Student WHERE Stu_Name = ’Phoebe’;"
   ]
  },
  {
   "cell_type": "markdown",
   "id": "dd9733e3",
   "metadata": {},
   "source": [
    "Q4. What is DQL? Explain SELECT with an example."
   ]
  },
  {
   "cell_type": "markdown",
   "id": "a018b350",
   "metadata": {},
   "source": [
    "Ans:\n",
    "    \n",
    "DQL statements are used for performing queries on the data within schema objects. \n",
    "The purpose of the DQL Command is to get some schema relation based on the query passed to it. \n",
    "We can define DQL as follows it is a component of SQL statement that allows getting data from the database and imposing order upon it. It includes the SELECT statement. \n",
    "This command allows getting the data out of the database to perform operations with it. \n",
    "When a SELECT is fired against a table or tables the result is compiled into a further temporary table, which is displayed or perhaps received by the program i.e. a front-end.\n",
    "\n",
    "List of DQL: \n",
    "\n",
    "SELECT: It is used to retrieve data from the database.\n",
    "\n",
    "Example: Select * from Employee_table;"
   ]
  },
  {
   "cell_type": "markdown",
   "id": "918db0cd",
   "metadata": {},
   "source": [
    "Q5. Explain Primary Key and Foreign Key."
   ]
  },
  {
   "cell_type": "markdown",
   "id": "e2af7de5",
   "metadata": {},
   "source": [
    "Ans:\n",
    "    \n",
    "Primary Key: A primary key is used to ensure that data in the specific column is unique. A column cannot have NULL values. It is either an existing table column or a column that is specifically generated by the database according to a defined sequence. \n",
    "\n",
    "Foreign Key: A foreign key is a column or group of columns in a relational database table that provides a link between data in two tables. It is a column (or columns) that references a column (most often the primary key) of another table."
   ]
  },
  {
   "cell_type": "markdown",
   "id": "4acf1930",
   "metadata": {},
   "source": [
    "Q6. Write a python code to connect MySQL to python. Explain the cursor() and execute() method."
   ]
  },
  {
   "cell_type": "code",
   "execution_count": 2,
   "id": "b1b1d2f9",
   "metadata": {},
   "outputs": [
    {
     "name": "stdout",
     "output_type": "stream",
     "text": [
      "<mysql.connector.connection.MySQLConnection object at 0x7f8d4959c790>\n"
     ]
    }
   ],
   "source": [
    "import mysql.connector\n",
    "\n",
    "mydb = mysql.connector.connect(host = \"localhost\",\n",
    "                               user = \"root\",\n",
    "                               password = \"A$ha2008\")\n",
    "\n",
    "print(mydb)\n",
    "\n",
    "mydb.close()"
   ]
  },
  {
   "cell_type": "markdown",
   "id": "b8483605",
   "metadata": {},
   "source": [
    "cursor(): The MySQLCursor of mysql-connector-python (and similar libraries) is used to execute statements to communicate with the MySQL database.\n",
    "\n",
    "Using the methods of it you can execute SQL statements, fetch data from the result sets, call procedures.\n",
    "    \n",
    "execute(): It is one of the method provided by Cursor class/object.\n",
    "This method accepts a MySQL query as a parameter and executes the given query."
   ]
  },
  {
   "cell_type": "markdown",
   "id": "de50d3c7",
   "metadata": {},
   "source": [
    "Q7. Give the order of execution of SQL clauses in an SQL query."
   ]
  },
  {
   "cell_type": "markdown",
   "id": "c25b8c94",
   "metadata": {},
   "source": [
    "Ans:\n",
    "\n",
    "The SQL order of execution defines the order in which the clauses of a query are evaluated. Understanding query order can help us to optimize our queries.\n",
    "    \n",
    "1. from - Choose and join tables to get base data.\n",
    "2. where - Filters the base data.\n",
    "3. group by - Aggregates the base data.\n",
    "4. having - Filters teh aggregated data.\n",
    "5. select - Returns the final data.\n",
    "6. order by - Sorts the final data.\n",
    "7. limit - Limits the returned data to a row count\n"
   ]
  },
  {
   "cell_type": "code",
   "execution_count": null,
   "id": "26ffb967",
   "metadata": {},
   "outputs": [],
   "source": []
  }
 ],
 "metadata": {
  "kernelspec": {
   "display_name": "Python 3 (ipykernel)",
   "language": "python",
   "name": "python3"
  },
  "language_info": {
   "codemirror_mode": {
    "name": "ipython",
    "version": 3
   },
   "file_extension": ".py",
   "mimetype": "text/x-python",
   "name": "python",
   "nbconvert_exporter": "python",
   "pygments_lexer": "ipython3",
   "version": "3.9.13"
  }
 },
 "nbformat": 4,
 "nbformat_minor": 5
}
