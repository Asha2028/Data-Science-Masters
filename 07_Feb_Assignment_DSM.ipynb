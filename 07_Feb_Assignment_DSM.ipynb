{
 "cells": [
  {
   "cell_type": "raw",
   "id": "7004b7f8",
   "metadata": {},
   "source": [
    "Q1. You are writing code for a company. The requirement of the company is that you create a python function that will check whether the password entered by the user is correct or not. \n",
    "\n",
    "The function should take the password as input and return the string “Valid Password” if the entered password follows the\n",
    "below-given password guidelines else it should return “Invalid Password”.\n",
    "\n",
    "Note: \n",
    "1. The Password should contain at least two uppercase letters and at least two lowercase letters.\n",
    "\n",
    "2. The Password should contain at least a number and three special characters.\n",
    "\n",
    "3. The length of the password should be 10 characters long."
   ]
  },
  {
   "cell_type": "code",
   "execution_count": 21,
   "id": "df44a655",
   "metadata": {},
   "outputs": [
    {
     "name": "stdout",
     "output_type": "stream",
     "text": [
      "Enter the password: hsgdfgsd$5s\n"
     ]
    },
    {
     "data": {
      "text/plain": [
       "'Invalid password'"
      ]
     },
     "execution_count": 21,
     "metadata": {},
     "output_type": "execute_result"
    }
   ],
   "source": [
    "def pswd_check(password):\n",
    "\n",
    "    special_characters = \"!@#$%^&*\"\n",
    "    numbers = \"0123456789\"\n",
    "    count_spl = 0\n",
    "    count_num = 0\n",
    "    count_upper_char = 0\n",
    "    count_lower_char = 0\n",
    "\n",
    "    if len(password) == 10:\n",
    "        for i in password:\n",
    "            if i in special_characters:\n",
    "                count_spl += 1\n",
    "            elif i in numbers:\n",
    "                count_num +=1\n",
    "            else:\n",
    "                if i >= 'a' and i <= 'z':\n",
    "                    count_lower_char +=1\n",
    "                elif i >= 'A' and i <= 'z':\n",
    "                    count_upper_char +=1\n",
    "        if count_num >=1 and count_spl>=3 and count_lower_char >=2 and count_upper_char>=2:\n",
    "            return \"Valid password\"\n",
    "        else:\n",
    "            return \"Invalid password\" \n",
    "    else:\n",
    "            return \"Invalid password\"\n",
    "           \n",
    "password = input(\"Enter the password: \")\n",
    "pswd_check(password)\n",
    "          "
   ]
  },
  {
   "cell_type": "raw",
   "id": "537581d1",
   "metadata": {},
   "source": [
    "Q2. Solve the below-given questions using at least one of the following: \n",
    "\n",
    "1. Lambda function\n",
    "2. Filter function\n",
    "3. Map function\n",
    "4. List Comprehension\n",
    "    \n",
    "    1. Check if the string starts with a particular letter.\n",
    "    2. Check if the string is numeric.\n",
    "    3. Sort a list of tuples having fruit names and their quantity.        [(\"mango\",99),(\"orange\",80), (\"grapes\", 1000)]\n",
    "    4. Find the squares of numbers from 1 to 10.\n",
    "    5. Find the cube root of numbers from 1 to 10.\n",
    "    6. Check if a given number is even.\n",
    "    7. Filter odd numbers from the given list.\n",
    "        [1,2,3,4,5,6,7,8,9,10]\n",
    "    8. Sort a list of integers into positive and negative integers lists.\n",
    "      [1,2,3,4,5,6,-1,-2,-3,-4,-5,0]"
   ]
  },
  {
   "cell_type": "code",
   "execution_count": 42,
   "id": "185ec66a",
   "metadata": {},
   "outputs": [
    {
     "name": "stdout",
     "output_type": "stream",
     "text": [
      "Enter the string: sdksdsd\n"
     ]
    },
    {
     "data": {
      "text/plain": [
       "False"
      ]
     },
     "execution_count": 42,
     "metadata": {},
     "output_type": "execute_result"
    }
   ],
   "source": [
    "#Check if the string starts with a particular letter.\n",
    "s = input(\"Enter the string: \")\n",
    "# s.startswith(\"A\")\n",
    "a = lambda x: s.startswith(\"A\")\n",
    "a(s)"
   ]
  },
  {
   "cell_type": "code",
   "execution_count": 45,
   "id": "8715c8bc",
   "metadata": {},
   "outputs": [
    {
     "name": "stdout",
     "output_type": "stream",
     "text": [
      "Enter the string: 5236125748\n"
     ]
    },
    {
     "data": {
      "text/plain": [
       "True"
      ]
     },
     "execution_count": 45,
     "metadata": {},
     "output_type": "execute_result"
    }
   ],
   "source": [
    "#Check if the string is numeric.\n",
    "s = input(\"Enter the string: \")\n",
    "b = lambda x : s.isnumeric()\n",
    "b(s)"
   ]
  },
  {
   "cell_type": "code",
   "execution_count": 99,
   "id": "93363e58",
   "metadata": {},
   "outputs": [
    {
     "data": {
      "text/plain": [
       "[('grapes', 1000), ('mango', 99), ('orange', 80)]"
      ]
     },
     "execution_count": 99,
     "metadata": {},
     "output_type": "execute_result"
    }
   ],
   "source": [
    "#Sort a list of tuples having fruit names and their quantity.      \n",
    "#[(\"mango\",99),(\"orange\",80), (\"grapes\", 1000)]\n",
    "\n",
    "l = [(\"mango\",99),(\"orange\",80), (\"grapes\", 1000)]\n",
    "a =  lambda x : sorted(x)\n",
    "a(l)"
   ]
  },
  {
   "cell_type": "code",
   "execution_count": 127,
   "id": "e38e153c",
   "metadata": {},
   "outputs": [
    {
     "data": {
      "text/plain": [
       "[1, 4, 9, 16, 25, 36, 49, 64, 81]"
      ]
     },
     "execution_count": 127,
     "metadata": {},
     "output_type": "execute_result"
    }
   ],
   "source": [
    "# Find the squares of numbers from 1 to 10.\n",
    "l = []\n",
    "for i in range(1,10):\n",
    "    l.append(i)\n",
    "list(map(lambda x: x**2,l))"
   ]
  },
  {
   "cell_type": "code",
   "execution_count": 128,
   "id": "4fb8828a",
   "metadata": {},
   "outputs": [
    {
     "data": {
      "text/plain": [
       "[1, 8, 27, 64, 125, 216, 343, 512, 729]"
      ]
     },
     "execution_count": 128,
     "metadata": {},
     "output_type": "execute_result"
    }
   ],
   "source": [
    "#Find the cube root of numbers from 1 to 10.\n",
    "l = []\n",
    "for i in range(1,10):\n",
    "    l.append(i)\n",
    "list(map(lambda x: x**3,l))"
   ]
  },
  {
   "cell_type": "code",
   "execution_count": 129,
   "id": "08deb0bb",
   "metadata": {},
   "outputs": [
    {
     "data": {
      "text/plain": [
       "[1, 3, 5, 7, 9]"
      ]
     },
     "execution_count": 129,
     "metadata": {},
     "output_type": "execute_result"
    }
   ],
   "source": [
    "#Filter odd numbers from the given list.\n",
    "#[1,2,3,4,5,6,7,8,9,10]\n",
    "\n",
    "l = [1,2,3,4,5,6,7,8,9,10]\n",
    "list(filter(lambda x: x%2!=0,l))"
   ]
  },
  {
   "cell_type": "code",
   "execution_count": 133,
   "id": "a0f5801f",
   "metadata": {},
   "outputs": [
    {
     "name": "stdout",
     "output_type": "stream",
     "text": [
      "[1, 2, 3, 4, 5, 6, 0]\n",
      "[-1, -2, -3, -4, -5]\n"
     ]
    }
   ],
   "source": [
    "#Sort a list of integers into positive and negative integers lists.\n",
    "#[1,2,3,4,5,6,-1,-2,-3,-4,-5,0]\n",
    "\n",
    "l = [1,2,3,4,5,6,-1,-2,-3,-4,-5,0]\n",
    "l_positive = list(filter(lambda x: x>=0,l))\n",
    "l_negative = list(filter(lambda x: x<0,l))\n",
    "print(l_positive)\n",
    "print(l_negative)"
   ]
  },
  {
   "cell_type": "code",
   "execution_count": null,
   "id": "4969fe39",
   "metadata": {},
   "outputs": [],
   "source": []
  }
 ],
 "metadata": {
  "kernelspec": {
   "display_name": "Python 3 (ipykernel)",
   "language": "python",
   "name": "python3"
  },
  "language_info": {
   "codemirror_mode": {
    "name": "ipython",
    "version": 3
   },
   "file_extension": ".py",
   "mimetype": "text/x-python",
   "name": "python",
   "nbconvert_exporter": "python",
   "pygments_lexer": "ipython3",
   "version": "3.9.13"
  }
 },
 "nbformat": 4,
 "nbformat_minor": 5
}
