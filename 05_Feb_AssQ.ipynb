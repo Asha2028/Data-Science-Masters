{
 "cells": [
  {
   "cell_type": "markdown",
   "id": "9253e383",
   "metadata": {},
   "source": [
    "Q1. Explain Class and Object with respect to Object-Oriented Programming. Give a suitable example."
   ]
  },
  {
   "cell_type": "code",
   "execution_count": 1,
   "id": "7bace2b5",
   "metadata": {},
   "outputs": [],
   "source": [
    "# Ans:\n",
    "#     Class is a blueprint of objects.\n",
    "#     Syntax: \n",
    "#         class ClassName:\n",
    "#             #class definition\n",
    "            \n",
    "#     Object is called as an instance of a class. OR Simply a     collection of dat(variables) and methods(functions).\n",
    "#     Syntax:\n",
    "#         objectName = ClassName()"
   ]
  },
  {
   "cell_type": "code",
   "execution_count": 1,
   "id": "5b14973e",
   "metadata": {},
   "outputs": [],
   "source": [
    "#Example\n",
    "\n",
    "#creating a class called PwSkills\n",
    "class PwSkills:\n",
    "    #inbuild method or constructor of a class\n",
    "    #self is a pointer\n",
    "    def __init__(self,phone_no, email_id, student_id):\n",
    "        self.phone_no = phone_no\n",
    "        self.email_id = email_id\n",
    "        self.student_id = student_id\n",
    "    #method of a class\n",
    "    def return_student_details(self):\n",
    "        return self.phone_no,self.email_id,self.student_id\n",
    "    \n",
    "#object creation\n",
    "obj1 = PwSkills(111111111,\"asaasdas@gmail.com\",123)"
   ]
  },
  {
   "cell_type": "code",
   "execution_count": 2,
   "id": "ff91f3c0",
   "metadata": {},
   "outputs": [
    {
     "data": {
      "text/plain": [
       "111111111"
      ]
     },
     "execution_count": 2,
     "metadata": {},
     "output_type": "execute_result"
    }
   ],
   "source": [
    "obj1.phone_no"
   ]
  },
  {
   "cell_type": "code",
   "execution_count": 3,
   "id": "b776bcad",
   "metadata": {},
   "outputs": [
    {
     "data": {
      "text/plain": [
       "'asaasdas@gmail.com'"
      ]
     },
     "execution_count": 3,
     "metadata": {},
     "output_type": "execute_result"
    }
   ],
   "source": [
    "obj1.email_id"
   ]
  },
  {
   "cell_type": "code",
   "execution_count": 4,
   "id": "511b44bc",
   "metadata": {},
   "outputs": [
    {
     "data": {
      "text/plain": [
       "123"
      ]
     },
     "execution_count": 4,
     "metadata": {},
     "output_type": "execute_result"
    }
   ],
   "source": [
    "obj1.student_id"
   ]
  },
  {
   "cell_type": "code",
   "execution_count": 5,
   "id": "58f1b7a8",
   "metadata": {},
   "outputs": [
    {
     "data": {
      "text/plain": [
       "(111111111, 'asaasdas@gmail.com', 123)"
      ]
     },
     "execution_count": 5,
     "metadata": {},
     "output_type": "execute_result"
    }
   ],
   "source": [
    "obj1.return_student_details()"
   ]
  },
  {
   "cell_type": "markdown",
   "id": "87f1e516",
   "metadata": {},
   "source": [
    "Q2. Name the four pillars of OOPs."
   ]
  },
  {
   "cell_type": "markdown",
   "id": "ddf19277",
   "metadata": {},
   "source": [
    "Ans:\n",
    "    Python is an Object-Oriented Programming language. Everything in Python is an object. Like other Object-Oriented languages, when creating objects using classes, there are four(4) basic principles for writing clean and concise code. These principles are called the four pillars of object-oriented programming (OOP). These four pillars are **Inheritance, Polymorphism, Encapsulation and Abstraction. \n",
    "    \n",
    "    Inheritance:\n",
    "        In Python it is possible to create an object that inherits the methods and properties of another object. This is called inheritance. In inheritance, there is a parent class and a child class. A child class inherits the properties and methods of the parent class. \n",
    "    \n",
    "    Polymorphism:\n",
    "        Polymorphism simply means 'many forms'. In Python this means that you can have one function or object that can be used in different ways.\n",
    "        In OOP, polymorphism can be implemented with inheritance. The methods of the child class will have the same name as those of the parent class. The child class method overrides the method inherited from the parent class, when called with the child class object. This kind of implementation is called method overriding.\n",
    "     \n",
    "     Encapsulation\n",
    "         It is the process of making the data private by wrapping the data and its methods in a 'capsule' or unit, so that it cannot be accessed or modified outside the unit. This is achieved by making the variables inside a class private. \n",
    "         In python we can make variables private by prefixing the variable name with a double underscore'__'. \n",
    "         To make the variable protected, we need to prefix the variable with single underscore'_'. However, protected data can be accessed and modified outside the class.Adding a single underscore is simply a conventional way of informing other programmers that may use your code that the variable with an underscore prefix is protected and should not be modified.\n",
    "         \n",
    "     Abstraction\n",
    "         The fourth pillar of OOP is Abstraction. Abstraction is about keeping the process simple by hiding unnecessary details from the user. OR\n",
    "         Abstraction is about keeping the internal mechanics of the code hidden from the user. This reduces the complexity of the code, and ensures that we only concentrate on what is important.\n",
    "         It is achieved by creating an interface class(base class) and implementation classes(subclasses). We can create an interface class/abstract class using the in-built ABC class from the abc module. The @abstractmethod is a decorator of the abstract methods. The abstract class and its decorated methods are for declaration only, not for implementation. We cannot instantiate an object of the abstract class, we will get an error.\n",
    "         The implementation classes will have the same method name as that of the abstract class. The methods in the implementation classes will override the method in the abstract class.\n",
    "         \n",
    "         Basically, the abstraction class ensures that the focus is on WHAT should be implemented and not HOW it is implemented. The implementation is left to the subclasses."
   ]
  },
  {
   "cell_type": "code",
   "execution_count": 7,
   "id": "38bad4a9",
   "metadata": {},
   "outputs": [],
   "source": [
    "#Example of Inheritance\n",
    "\n",
    "#Parent class\n",
    "class Animals:\n",
    "    \n",
    "    def __init__(self,name,age):\n",
    "        self.name = name\n",
    "        self.age = age\n",
    "\n",
    "#Child class that inherits from the paren class        \n",
    "class Dog(Animals):\n",
    "    \n",
    "    def __init__(self,name,age,color):\n",
    "        #super is used to access the methods of the parent class\n",
    "        super().__init__(name,age)\n",
    "        self.color = color\n",
    "        "
   ]
  },
  {
   "cell_type": "code",
   "execution_count": 10,
   "id": "d4780c42",
   "metadata": {},
   "outputs": [],
   "source": [
    "obj2 = Animals(\"Dog1\", 5)"
   ]
  },
  {
   "cell_type": "code",
   "execution_count": 11,
   "id": "d5ebdd14",
   "metadata": {},
   "outputs": [
    {
     "data": {
      "text/plain": [
       "('Dog1', 5)"
      ]
     },
     "execution_count": 11,
     "metadata": {},
     "output_type": "execute_result"
    }
   ],
   "source": [
    "obj2.name,obj2.age"
   ]
  },
  {
   "cell_type": "code",
   "execution_count": 13,
   "id": "fb290e5c",
   "metadata": {},
   "outputs": [],
   "source": [
    "obj3 = Dog(\"Dog2\",10,\"brown\")"
   ]
  },
  {
   "cell_type": "code",
   "execution_count": 15,
   "id": "92c4fd2d",
   "metadata": {},
   "outputs": [
    {
     "data": {
      "text/plain": [
       "('Dog2', 'brown', 10)"
      ]
     },
     "execution_count": 15,
     "metadata": {},
     "output_type": "execute_result"
    }
   ],
   "source": [
    "obj3.name, obj3.color, obj3.age"
   ]
  },
  {
   "cell_type": "code",
   "execution_count": 18,
   "id": "d6969632",
   "metadata": {},
   "outputs": [
    {
     "name": "stdout",
     "output_type": "stream",
     "text": [
      "9\n",
      "Data Science\n"
     ]
    }
   ],
   "source": [
    "#Example of Polymorphism with '+' symbol\n",
    "\n",
    "a = 4\n",
    "b = 5\n",
    "print(a+b)\n",
    "\n",
    "c = \"Data\"\n",
    "d = \" Science\"\n",
    "print(c+d)"
   ]
  },
  {
   "cell_type": "code",
   "execution_count": 29,
   "id": "a8b91d15",
   "metadata": {},
   "outputs": [
    {
     "name": "stdout",
     "output_type": "stream",
     "text": [
      "This is the Parent class\n",
      "This is child class Tesla\n",
      "This is child class BMW\n"
     ]
    }
   ],
   "source": [
    "#Example of method overriding\n",
    "#Parent class\n",
    "class Cars:\n",
    "    \n",
    "    def start(self):\n",
    "        return \"This is the Parent class\"\n",
    "\n",
    "#child class       \n",
    "class Tesla(Cars):\n",
    "    \n",
    "    def start(self):\n",
    "        return \"This is child class Tesla\"\n",
    "\n",
    "class BMW(Cars):\n",
    "    \n",
    "    def start(self):\n",
    "        return \"This is child class BMW\"\n",
    "    \n",
    "car = Cars()\n",
    "print(car.start())\n",
    "\n",
    "tesla = Tesla()\n",
    "print(tesla.start())\n",
    "\n",
    "bmw = BMW()\n",
    "print(bmw.start())"
   ]
  },
  {
   "cell_type": "code",
   "execution_count": 31,
   "id": "6c6c41d9",
   "metadata": {},
   "outputs": [
    {
     "ename": "AttributeError",
     "evalue": "'Cars' object has no attribute '__brand'",
     "output_type": "error",
     "traceback": [
      "\u001b[0;31m---------------------------------------------------------------------------\u001b[0m",
      "\u001b[0;31mAttributeError\u001b[0m                            Traceback (most recent call last)",
      "\u001b[0;32m/var/folders/p9/2ngwgj9d35lb8417qgydrrkr0000gn/T/ipykernel_30941/2020496352.py\u001b[0m in \u001b[0;36m<module>\u001b[0;34m\u001b[0m\n\u001b[1;32m      8\u001b[0m         \u001b[0;32mreturn\u001b[0m \u001b[0;34mf'Please run {self.__brand}'\u001b[0m\u001b[0;34m\u001b[0m\u001b[0;34m\u001b[0m\u001b[0m\n\u001b[1;32m      9\u001b[0m \u001b[0;34m\u001b[0m\u001b[0m\n\u001b[0;32m---> 10\u001b[0;31m \u001b[0mprint\u001b[0m\u001b[0;34m(\u001b[0m\u001b[0mcar\u001b[0m\u001b[0;34m.\u001b[0m\u001b[0m__brand\u001b[0m\u001b[0;34m)\u001b[0m\u001b[0;34m\u001b[0m\u001b[0;34m\u001b[0m\u001b[0m\n\u001b[0m",
      "\u001b[0;31mAttributeError\u001b[0m: 'Cars' object has no attribute '__brand'"
     ]
    }
   ],
   "source": [
    "#Example of Encapsulation\n",
    "class Car:\n",
    "    def __init__(self,brand):\n",
    "        #class variables\n",
    "        self.__brand = brand\n",
    "    #class methods    \n",
    "    def run(self):\n",
    "        return f'Please run {self.__brand}'\n",
    "    \n",
    "print(car.__brand)"
   ]
  },
  {
   "cell_type": "code",
   "execution_count": 32,
   "id": "442f4241",
   "metadata": {},
   "outputs": [
    {
     "ename": "TypeError",
     "evalue": "Can't instantiate abstract class Car with abstract method car_model",
     "output_type": "error",
     "traceback": [
      "\u001b[0;31m---------------------------------------------------------------------------\u001b[0m",
      "\u001b[0;31mTypeError\u001b[0m                                 Traceback (most recent call last)",
      "\u001b[0;32m/var/folders/p9/2ngwgj9d35lb8417qgydrrkr0000gn/T/ipykernel_30941/4105724098.py\u001b[0m in \u001b[0;36m<module>\u001b[0;34m\u001b[0m\n\u001b[1;32m     10\u001b[0m         \u001b[0;32mpass\u001b[0m\u001b[0;34m\u001b[0m\u001b[0;34m\u001b[0m\u001b[0m\n\u001b[1;32m     11\u001b[0m \u001b[0;34m\u001b[0m\u001b[0m\n\u001b[0;32m---> 12\u001b[0;31m \u001b[0mcar\u001b[0m \u001b[0;34m=\u001b[0m \u001b[0mCar\u001b[0m\u001b[0;34m(\u001b[0m\u001b[0;34m)\u001b[0m\u001b[0;34m\u001b[0m\u001b[0;34m\u001b[0m\u001b[0m\n\u001b[0m\u001b[1;32m     13\u001b[0m \u001b[0mcar\u001b[0m\u001b[0;34m.\u001b[0m\u001b[0mcar_model\u001b[0m\u001b[0;34m(\u001b[0m\u001b[0;34m)\u001b[0m\u001b[0;34m\u001b[0m\u001b[0;34m\u001b[0m\u001b[0m\n",
      "\u001b[0;31mTypeError\u001b[0m: Can't instantiate abstract class Car with abstract method car_model"
     ]
    }
   ],
   "source": [
    "#Example of Abstraction\n",
    "\n",
    "from abc import ABC, abstractmethod\n",
    "\n",
    "#interface class\n",
    "class Car(ABC):\n",
    "    \n",
    "    @abstractmethod\n",
    "    def car_model(self):\n",
    "        pass\n",
    "#instantiating the objects of interface class   \n",
    "car = Car()\n",
    "car.car_model()"
   ]
  },
  {
   "cell_type": "code",
   "execution_count": 33,
   "id": "4d7ce4ce",
   "metadata": {},
   "outputs": [
    {
     "name": "stdout",
     "output_type": "stream",
     "text": [
      "Tesla car\n",
      "BMW car\n"
     ]
    }
   ],
   "source": [
    "from abc import ABC, abstractmethod\n",
    "\n",
    "#interface class or abstract class or base class\n",
    "class Car(ABC):\n",
    "    \n",
    "    @abstractmethod\n",
    "    def car_model(self):\n",
    "        pass\n",
    "    \n",
    "#implementation class\n",
    "class Tesla(Car):\n",
    "    def car_model(self):\n",
    "        print(\"Tesla car\")\n",
    "        \n",
    "#implementation class\n",
    "class Bmw(Car):\n",
    "    def car_model(self):\n",
    "        print(\"BMW car\")\n",
    "        \n",
    "#instantiating the objects of implementation classes\n",
    "\n",
    "obj = Tesla()\n",
    "obj.car_model()\n",
    "\n",
    "objj = Bmw()\n",
    "objj.car_model()\n"
   ]
  },
  {
   "cell_type": "markdown",
   "id": "dd079f99",
   "metadata": {},
   "source": [
    "Q3. Explain why the __init__() function is used. Give a suitable example."
   ]
  },
  {
   "cell_type": "markdown",
   "id": "2fe9b21b",
   "metadata": {},
   "source": [
    "Ans:\n",
    "\n",
    "    The __init__() function is called as the constructor of the class which is used to initialize the object's state. The task of the constructors is to initialize(assign values) to the data members of the class when an object of the class is created. Like methods, a constructor contains a collection of statements that are executed at the time of object creation. It runs as soon as the object of a class is instantiated. The method is useful to do any initialization you want to do with your object."
   ]
  },
  {
   "cell_type": "code",
   "execution_count": 35,
   "id": "c52eda4e",
   "metadata": {},
   "outputs": [
    {
     "data": {
      "text/plain": [
       "'Data Science'"
      ]
     },
     "execution_count": 35,
     "metadata": {},
     "output_type": "execute_result"
    }
   ],
   "source": [
    "# Example1\n",
    "class pwskills:\n",
    "    def __init__(self,course_name):\n",
    "        self.courseName = course_name\n",
    "        \n",
    "    def welcome_msg(self):\n",
    "        print(\"Welcome to pwskills.\")\n",
    "\n",
    "object1 = pwskills(\"Data Science\")\n",
    "object1.courseName"
   ]
  },
  {
   "cell_type": "code",
   "execution_count": 50,
   "id": "ff177be4",
   "metadata": {},
   "outputs": [
    {
     "name": "stdout",
     "output_type": "stream",
     "text": [
      "Parent class init\n",
      "Child class init\n"
     ]
    },
    {
     "data": {
      "text/plain": [
       "'Data Science'"
      ]
     },
     "execution_count": 50,
     "metadata": {},
     "output_type": "execute_result"
    }
   ],
   "source": [
    "#Example2\n",
    "class Ineuron:\n",
    "    def __init__(self,course_name):\n",
    "        print(\"Parent class init\")\n",
    "        self.courseName = course_name\n",
    "        \n",
    "class Pwskills(Ineuron):\n",
    "    def __init__(self, course_name):\n",
    "        Ineuron.__init__(self, course_name)\n",
    "        print(\"Child class init\")\n",
    "        self.courseName = course_name\n",
    "        \n",
    "ob1 = Pwskills(\"Data Science\")\n",
    "ob1.courseName"
   ]
  },
  {
   "cell_type": "markdown",
   "id": "96882f42",
   "metadata": {},
   "source": [
    "Q4. Why self is used in OOPs?"
   ]
  },
  {
   "cell_type": "markdown",
   "id": "a2735196",
   "metadata": {},
   "source": [
    "Ans:\n",
    "    In object-oriented programming, whenever we define methods for a class, we use self as the first parameter in each case.\n",
    "    The self keyword is used to represent an instance (object) of the given class.\n",
    "    It allows access to the attributes and methods of each object in python. This allows each object to have its own attributes and methods. \n",
    "    Thus, even long before creating these objects, we reference the objects as self while defining the class.\n",
    "    \"self\" is just a convention not keyword in python.\n",
    "    \n",
    "   Self is always pointing to current object."
   ]
  },
  {
   "cell_type": "markdown",
   "id": "b1931ce3",
   "metadata": {},
   "source": [
    "Q5. What is inheritance? Give an example for each type of inheritance."
   ]
  },
  {
   "cell_type": "markdown",
   "id": "9c68594a",
   "metadata": {},
   "source": [
    "Ans:\n",
    "    Inheritance is the mechanism that allows one object to inherit methods and properties to another object.\n",
    "    \n",
    "    Benefits:\n",
    "    1. It represents the real-world relationships well.\n",
    "    2. It provides the reusability of a code.\n",
    "    3. It is transitive in nature, which means that if class B inherits from another class A, then all the subclassed of B would automatical;ly inherits from class A.\n",
    "    4. It offers simple, understandable model structure.\n",
    "    5. Less development and maintenance expenses result from an inheritance.\n",
    "    \n",
    "    Syntax:\n",
    "    \n",
    "    Class BaseClass:\n",
    "    {Body}\n",
    "    Class DerivedClass(BaseClass):\n",
    "    {Body}\n",
    "  \n",
    "Different types of inheritance:\n",
    "    1.Single inheritance\n",
    "    2. Multiple inheritance\n",
    "    3. Multilevel inheritance\n",
    "    4. Hierarchial inheritance\n",
    "    5. Hybrid inheritance\n",
    "\n",
    "1. Single inheritance: When a child class inherits from only one parent class, it is called single inheritance.Thus enabling code reusability and the addition of new features to existing code\n",
    "\n",
    "2. Multiple inheritance: When a child class inherits from multiple parent classes, it is called multiple inheritances. \n",
    "\n",
    "3. Multilevel Inheritance: In multilevel inheritance, features of the base class and the derived class are further inherited into the new derived class.\n",
    "\n",
    "4. Hierarchial Inheritance: When more than one derived class are created from a single base this type of inheritance is called hierarchical inheritance. In this program, we have a parent (base) class and two child (derived) classes.\n",
    "\n",
    "5. Hybrid inheritance: Inheritance consisting of multiple types of inheritance is called hybrid inheritance."
   ]
  },
  {
   "cell_type": "code",
   "execution_count": 102,
   "id": "9d319743",
   "metadata": {},
   "outputs": [
    {
     "name": "stdout",
     "output_type": "stream",
     "text": [
      "This is Parent class function\n",
      "This is Child class function\n"
     ]
    }
   ],
   "source": [
    "# Example: Single iheritance\n",
    "\n",
    "class Parent:\n",
    "    def func1(self):\n",
    "        print(\"This is Parent class function\")\n",
    "        \n",
    "\n",
    "class Child(Parent):\n",
    "    def func2(self):\n",
    "        print(\"This is Child class function\")\n",
    "        \n",
    "object11 = Child()\n",
    "object11.func1()\n",
    "object11.func2()"
   ]
  },
  {
   "cell_type": "code",
   "execution_count": 120,
   "id": "421dae04",
   "metadata": {},
   "outputs": [
    {
     "name": "stdout",
     "output_type": "stream",
     "text": [
      "University:  CBSCE\n",
      "School:  NSVK\n"
     ]
    }
   ],
   "source": [
    " # Example: Multiple iheritance\n",
    "\n",
    "class University:\n",
    "    unv_name = \"\"\n",
    "    def university(self):\n",
    "        print(self.unv_name)\n",
    "        \n",
    "class School:\n",
    "    school_name = \"\"\n",
    "    def school(self):\n",
    "        print(self.school_name)\n",
    "\n",
    "class Student(University,School):\n",
    "    def student(self):\n",
    "        print(\"University: \",self.unv_name)\n",
    "        print(\"School: \",self.school_name)\n",
    "\n",
    "s1 = Student()\n",
    "s1.unv_name=\"CBSCE\"\n",
    "s1.school_name=\"NSVK\"\n",
    "s1.student()"
   ]
  },
  {
   "cell_type": "code",
   "execution_count": 127,
   "id": "9d7e4a09",
   "metadata": {},
   "outputs": [
    {
     "data": {
      "text/plain": [
       "('kidsneuron', 'Pwskills', 'Ineuron')"
      ]
     },
     "execution_count": 127,
     "metadata": {},
     "output_type": "execute_result"
    }
   ],
   "source": [
    "#Example - Multilevel inheritance\n",
    "\n",
    "class Grandfather:\n",
    "    def __init__(self, grandfather_name):\n",
    "        self.grandfather_name = grandfather_name\n",
    "        \n",
    "class Father(Grandfather):\n",
    "    def __init__(self, father_name, grandfather_name):\n",
    "        self.father_name = father_name\n",
    "        Grandfather.__init__(self,grandfather_name)\n",
    "        \n",
    "class Son(Father):\n",
    "    def __init__(self, son_name,father_name,grandfather_name):\n",
    "        self.son_name = son_name\n",
    "        Father.__init__(self,father_name,grandfather_name)\n",
    "        \n",
    "    def print_name(self):\n",
    "        return self.grandfather_name,self.father_name,self.son_name\n",
    "    \n",
    "s2 = Son(\"Ineuron\",\"Pwskills\",\"kidsneuron\")\n",
    "s2.print_name()\n"
   ]
  },
  {
   "cell_type": "code",
   "execution_count": 128,
   "id": "d930b20f",
   "metadata": {},
   "outputs": [
    {
     "data": {
      "text/plain": [
       "'kidsneuron'"
      ]
     },
     "execution_count": 128,
     "metadata": {},
     "output_type": "execute_result"
    }
   ],
   "source": [
    "s2.grandfather_name\n"
   ]
  },
  {
   "cell_type": "code",
   "execution_count": 129,
   "id": "af28d4d0",
   "metadata": {},
   "outputs": [
    {
     "data": {
      "text/plain": [
       "'Pwskills'"
      ]
     },
     "execution_count": 129,
     "metadata": {},
     "output_type": "execute_result"
    }
   ],
   "source": [
    "s2.father_name\n"
   ]
  },
  {
   "cell_type": "code",
   "execution_count": 130,
   "id": "2d5dda6e",
   "metadata": {},
   "outputs": [
    {
     "data": {
      "text/plain": [
       "'Ineuron'"
      ]
     },
     "execution_count": 130,
     "metadata": {},
     "output_type": "execute_result"
    }
   ],
   "source": [
    "s2.son_name"
   ]
  },
  {
   "cell_type": "code",
   "execution_count": 132,
   "id": "832d8c25",
   "metadata": {},
   "outputs": [
    {
     "name": "stdout",
     "output_type": "stream",
     "text": [
      "This is the parent function\n",
      "This is the child1 function\n",
      "This is the parent function\n",
      "This is the child2 function\n"
     ]
    }
   ],
   "source": [
    "#Hierarchial Inheritance\n",
    "\n",
    "class Parent:\n",
    "    def func1(self):\n",
    "        print(\"This is the parent function\")\n",
    "        \n",
    "class Child1(Parent):\n",
    "    def func2(self):\n",
    "        print(\"This is the child1 function\")\n",
    "        \n",
    "class Child2(Parent):\n",
    "    def func3(self):\n",
    "        print(\"This is the child2 function\")\n",
    "        \n",
    "instance1 = Child1()\n",
    "instance2 = Child2()\n",
    "\n",
    "instance1.func1()\n",
    "instance1.func2()\n",
    "\n",
    "instance2.func1()\n",
    "instance2.func3()"
   ]
  },
  {
   "cell_type": "code",
   "execution_count": 138,
   "id": "b4fe8224",
   "metadata": {},
   "outputs": [
    {
     "name": "stdout",
     "output_type": "stream",
     "text": [
      "This is School function\n",
      "This is Student1 function\n",
      "This is Student2 function\n"
     ]
    }
   ],
   "source": [
    "#Example - Hybrid inyheritance\n",
    "\n",
    "class School:\n",
    "    def func1(self):\n",
    "        print(\"This is School function\")\n",
    "        \n",
    "class Student1(School):\n",
    "    def func2(self):\n",
    "        print(\"This is Student1 function\")\n",
    "        \n",
    "class Student2(Student1,School):\n",
    "    def func3(self):\n",
    "        print(\"This is Student2 function\")\n",
    "        \n",
    "student = Student2()\n",
    "student.func1()\n",
    "student.func2()\n",
    "student.func3()\n",
    "    "
   ]
  },
  {
   "cell_type": "code",
   "execution_count": null,
   "id": "20deb4f4",
   "metadata": {},
   "outputs": [],
   "source": []
  }
 ],
 "metadata": {
  "kernelspec": {
   "display_name": "Python 3 (ipykernel)",
   "language": "python",
   "name": "python3"
  },
  "language_info": {
   "codemirror_mode": {
    "name": "ipython",
    "version": 3
   },
   "file_extension": ".py",
   "mimetype": "text/x-python",
   "name": "python",
   "nbconvert_exporter": "python",
   "pygments_lexer": "ipython3",
   "version": "3.9.13"
  }
 },
 "nbformat": 4,
 "nbformat_minor": 5
}
