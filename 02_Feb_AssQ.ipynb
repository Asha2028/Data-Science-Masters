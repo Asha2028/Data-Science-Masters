{
 "cells": [
  {
   "cell_type": "markdown",
   "id": "aee765d7",
   "metadata": {},
   "source": [
    "Q1. What are the characteristics of the tuples? is tuple immutable?"
   ]
  },
  {
   "cell_type": "markdown",
   "id": "9a192f4d",
   "metadata": {},
   "source": [
    "Ans: Tuple characteristics:\n",
    "        1. Tuples are ordered collection.\n",
    "        2. Tuples are indexed.\n",
    "        3. Tuples are immutable.\n",
    "        4. Tuples can contain duplicate items.\n",
    "        "
   ]
  },
  {
   "cell_type": "code",
   "execution_count": 7,
   "id": "c3a71e46",
   "metadata": {},
   "outputs": [
    {
     "data": {
      "text/plain": [
       "tuple"
      ]
     },
     "execution_count": 7,
     "metadata": {},
     "output_type": "execute_result"
    }
   ],
   "source": [
    "# example\n",
    "t = ()\n",
    "type(t)"
   ]
  },
  {
   "cell_type": "code",
   "execution_count": 6,
   "id": "22e653f2",
   "metadata": {},
   "outputs": [
    {
     "data": {
      "text/plain": [
       "(1, 2, 'name', True, 1, 2)"
      ]
     },
     "execution_count": 6,
     "metadata": {},
     "output_type": "execute_result"
    }
   ],
   "source": [
    "t1 = (1,2,\"name\",True,1,2)\n",
    "t1"
   ]
  },
  {
   "cell_type": "markdown",
   "id": "b23492f3",
   "metadata": {},
   "source": [
    "Q2. What are the two tuple methods in python? Give an example of each method. Give a reason why tuples have only two in-built methods as compared to lists."
   ]
  },
  {
   "cell_type": "markdown",
   "id": "90f86a3e",
   "metadata": {},
   "source": [
    "Ans:\n",
    "    There are only two methods of tuples in python. They are:\n",
    "    1. count(): returns count of an element in the tuple\n",
    "    2. index(): returns index of an element in the tuple\n",
    "    Because of immutablity in tuples, they have only two in-built methods."
   ]
  },
  {
   "cell_type": "code",
   "execution_count": 8,
   "id": "46ef67f4",
   "metadata": {},
   "outputs": [
    {
     "data": {
      "text/plain": [
       "2"
      ]
     },
     "execution_count": 8,
     "metadata": {},
     "output_type": "execute_result"
    }
   ],
   "source": [
    "# Example\n",
    "#1. count() method\n",
    "t_count = (1,2,3,4,\"name\",45+6j,4.5,2,2,3,4)\n",
    "t_count.count(3)"
   ]
  },
  {
   "cell_type": "code",
   "execution_count": 9,
   "id": "d0ee58fd",
   "metadata": {},
   "outputs": [
    {
     "data": {
      "text/plain": [
       "4"
      ]
     },
     "execution_count": 9,
     "metadata": {},
     "output_type": "execute_result"
    }
   ],
   "source": [
    "#2. index() method\n",
    "t_ind = (1,2,3,4,\"name\",45+6j,4.5,2,2,3,4)\n",
    "t_ind.index(\"name\")"
   ]
  },
  {
   "cell_type": "markdown",
   "id": "89e02b3b",
   "metadata": {},
   "source": [
    "Q3. Which collection datatypes in python do not allow duplicate items? Write a code using a set to remove duplicates from the given list.\n",
    "List = [1, 1, 1, 2, 1, 3, 1, 4, 2, 1, 2, 2, 2, 3, 2, 4, 3, 1, 3, 2, 3, 3, 3, 4, 4, 1, 4, 2, 4, 3, 4, 4]"
   ]
  },
  {
   "cell_type": "markdown",
   "id": "1e889216",
   "metadata": {},
   "source": [
    "Ans: \n",
    "    Set datatype in python do not allow duplicate items."
   ]
  },
  {
   "cell_type": "code",
   "execution_count": 10,
   "id": "bc37ea7b",
   "metadata": {},
   "outputs": [],
   "source": [
    "List = [1, 1, 1, 2, 1, 3, 1, 4, 2, 1, 2, 2, 2, 3, 2, 4, 3, 1, 3, 2, 3, 3, 3, 4, 4, 1, 4, 2, 4, 3, 4, 4]"
   ]
  },
  {
   "cell_type": "code",
   "execution_count": 12,
   "id": "9cf83b2b",
   "metadata": {},
   "outputs": [
    {
     "data": {
      "text/plain": [
       "{1, 2, 3, 4}"
      ]
     },
     "execution_count": 12,
     "metadata": {},
     "output_type": "execute_result"
    }
   ],
   "source": [
    "List\n",
    "set(List)"
   ]
  },
  {
   "cell_type": "markdown",
   "id": "15291f8b",
   "metadata": {},
   "source": [
    "Q4. Explain the difference between the union() and update() mentods for a set. Give an example of each method."
   ]
  },
  {
   "cell_type": "markdown",
   "id": "2d07c440",
   "metadata": {},
   "source": [
    "Ans:\n",
    "    update() method: The return value is None"
   ]
  },
  {
   "cell_type": "markdown",
   "id": "e1d92a0e",
   "metadata": {},
   "source": [
    "union() method: the return value is a new set consisting of the elements of all the sets involved. The \"|\" notation represents union operator."
   ]
  },
  {
   "cell_type": "code",
   "execution_count": 18,
   "id": "02d07ed4",
   "metadata": {},
   "outputs": [
    {
     "data": {
      "text/plain": [
       "{1, 2, 3, 4, 5, 6, 'Data Science', 'PWskills'}"
      ]
     },
     "execution_count": 18,
     "metadata": {},
     "output_type": "execute_result"
    }
   ],
   "source": [
    "#Example\n",
    "#update() method\n",
    "s1 = {1,2,3,4,\"PWskills\"}\n",
    "s2 ={\"Data Science\", 5, 6}\n",
    "s1.update(s2)\n",
    "s1"
   ]
  },
  {
   "cell_type": "code",
   "execution_count": 21,
   "id": "1c0acc87",
   "metadata": {},
   "outputs": [
    {
     "data": {
      "text/plain": [
       "{1, 2, 3, 4, 5, 6, 'Data Science', 'PWskills'}"
      ]
     },
     "execution_count": 21,
     "metadata": {},
     "output_type": "execute_result"
    }
   ],
   "source": [
    "#Example\n",
    "#union() method\n",
    "s1 = {1,2,3,4,\"PWskills\"}\n",
    "s2 ={\"Data Science\", 5, 6}\n",
    "s1.union(s2)"
   ]
  },
  {
   "cell_type": "code",
   "execution_count": 22,
   "id": "e451783b",
   "metadata": {},
   "outputs": [
    {
     "data": {
      "text/plain": [
       "{1, 2, 3, 4, 5, 6, 'Data Science', 'PWskills'}"
      ]
     },
     "execution_count": 22,
     "metadata": {},
     "output_type": "execute_result"
    }
   ],
   "source": [
    "#Example\n",
    "#union() method\n",
    "s1 = {1,2,3,4,\"PWskills\"}\n",
    "s2 ={\"Data Science\", 5, 6}\n",
    "s1|s2"
   ]
  },
  {
   "cell_type": "markdown",
   "id": "e4e5b0a3",
   "metadata": {},
   "source": [
    "Q5. What is a dictionary? Give an example. Also, state whether a dictionary is ordered or unordered."
   ]
  },
  {
   "cell_type": "markdown",
   "id": "f40d2391",
   "metadata": {},
   "source": [
    "Ans:\n",
    "    The dictionary is unordered collection that contains key:value pairs separated by commas inside curly brackets. Dictionaries are optimized to retrieve values when the key is known."
   ]
  },
  {
   "cell_type": "code",
   "execution_count": 24,
   "id": "ca83a209",
   "metadata": {},
   "outputs": [
    {
     "data": {
      "text/plain": [
       "{'name': 'PWskills', 'phone_No': 123446777, 'lst': {1: 'a', 2: 'b'}}"
      ]
     },
     "execution_count": 24,
     "metadata": {},
     "output_type": "execute_result"
    }
   ],
   "source": [
    "# Example\n",
    "d = {\"name\":\"PWskills\",\"phone_No\":123446777,\"lst\":{1:'a',2:'b'}}\n",
    "d"
   ]
  },
  {
   "cell_type": "markdown",
   "id": "1cd7552b",
   "metadata": {},
   "source": [
    "Q6. Can we create a nested dictionary? If so, please give an example by creating a simple one-level\n",
    "nested dictionary."
   ]
  },
  {
   "cell_type": "code",
   "execution_count": null,
   "id": "5c04e5c2",
   "metadata": {},
   "outputs": [],
   "source": [
    "Ans:\n",
    "    Yes, we can create a nested dictionary."
   ]
  },
  {
   "cell_type": "code",
   "execution_count": 26,
   "id": "a0d2f9cf",
   "metadata": {},
   "outputs": [
    {
     "data": {
      "text/plain": [
       "{'Key': {'name': 'asha', 'email': 'assasa@gmail.com'},\n",
       " 'course': 'Data_Science'}"
      ]
     },
     "execution_count": 26,
     "metadata": {},
     "output_type": "execute_result"
    }
   ],
   "source": [
    "d15 = {\"Key\": {\"name\":\"asha\",\"email\":\"assasa@gmail.com\"},\"course\":\"Data_Science\"}\n",
    "d15"
   ]
  },
  {
   "cell_type": "markdown",
   "id": "3d09102e",
   "metadata": {},
   "source": [
    "Q7. Using setdefault() method, create key named topics in the given dictionary and also add the value of\n",
    "the key as this list ['Python', 'Machine Learning’, 'Deep Learning']\n",
    "\n",
    "dict1 = {'language' : 'Python', 'course': 'Data Science Masters'}"
   ]
  },
  {
   "cell_type": "code",
   "execution_count": 33,
   "id": "74890bc8",
   "metadata": {},
   "outputs": [
    {
     "data": {
      "text/plain": [
       "{'language': 'Python',\n",
       " 'course': 'Data Science Masters',\n",
       " 'topics': ['Python', 'Machine Learning', 'Deep Learning']}"
      ]
     },
     "execution_count": 33,
     "metadata": {},
     "output_type": "execute_result"
    }
   ],
   "source": [
    "lst =  ['Python', 'Machine Learning','Deep Learning']\n",
    "dict1 = {'language' : 'Python', 'course': 'Data Science Masters'}\n",
    "dict1.setdefault(\"topics\",lst)\n",
    "dict1"
   ]
  },
  {
   "cell_type": "markdown",
   "id": "67169b26",
   "metadata": {},
   "source": [
    "Q8. What are the three view objects in dictionaries? Use the three in-built methods in python to display\n",
    "these three view objects for the given dictionary.\n",
    "\n",
    "dict1 = {'Sport': 'Cricket' , 'Teams': ['India', 'Australia', 'England', 'South Africa', 'Sri Lanka', 'New Zealand']}"
   ]
  },
  {
   "cell_type": "markdown",
   "id": "644fa86e",
   "metadata": {},
   "source": [
    "Ans:\n",
    "    The three view objects in dictionaries are Keys, Values and items.\n",
    "    "
   ]
  },
  {
   "cell_type": "code",
   "execution_count": 36,
   "id": "6d0ad12e",
   "metadata": {},
   "outputs": [
    {
     "data": {
      "text/plain": [
       "dict_keys(['Sport', 'Teams'])"
      ]
     },
     "execution_count": 36,
     "metadata": {},
     "output_type": "execute_result"
    }
   ],
   "source": [
    "dict1 = {'Sport': 'Cricket' , 'Teams': ['India', 'Australia', 'England', 'South Africa', 'Sri Lanka', 'New Zealand']}\n",
    "dict1.keys()\n"
   ]
  },
  {
   "cell_type": "code",
   "execution_count": 37,
   "id": "446a433f",
   "metadata": {},
   "outputs": [
    {
     "data": {
      "text/plain": [
       "dict_values(['Cricket', ['India', 'Australia', 'England', 'South Africa', 'Sri Lanka', 'New Zealand']])"
      ]
     },
     "execution_count": 37,
     "metadata": {},
     "output_type": "execute_result"
    }
   ],
   "source": [
    "dict1.values()"
   ]
  },
  {
   "cell_type": "code",
   "execution_count": 38,
   "id": "0ce97eea",
   "metadata": {},
   "outputs": [
    {
     "data": {
      "text/plain": [
       "dict_items([('Sport', 'Cricket'), ('Teams', ['India', 'Australia', 'England', 'South Africa', 'Sri Lanka', 'New Zealand'])])"
      ]
     },
     "execution_count": 38,
     "metadata": {},
     "output_type": "execute_result"
    }
   ],
   "source": [
    "dict1.items()"
   ]
  },
  {
   "cell_type": "code",
   "execution_count": null,
   "id": "b8b6800b",
   "metadata": {},
   "outputs": [],
   "source": []
  }
 ],
 "metadata": {
  "kernelspec": {
   "display_name": "Python 3 (ipykernel)",
   "language": "python",
   "name": "python3"
  },
  "language_info": {
   "codemirror_mode": {
    "name": "ipython",
    "version": 3
   },
   "file_extension": ".py",
   "mimetype": "text/x-python",
   "name": "python",
   "nbconvert_exporter": "python",
   "pygments_lexer": "ipython3",
   "version": "3.9.13"
  }
 },
 "nbformat": 4,
 "nbformat_minor": 5
}
