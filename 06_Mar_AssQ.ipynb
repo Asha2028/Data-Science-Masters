{
 "cells": [
  {
   "cell_type": "markdown",
   "id": "c6c3b3d1",
   "metadata": {},
   "source": [
    "Q1. What is Statistics?"
   ]
  },
  {
   "cell_type": "markdown",
   "id": "c8d8b744",
   "metadata": {},
   "source": [
    "Ans: Statistics is the science of collecting, organizing and analysing the data."
   ]
  },
  {
   "cell_type": "markdown",
   "id": "bbb2a23b",
   "metadata": {},
   "source": [
    "Q2. Define the different types of statistics and give an example of when each type might be used."
   ]
  },
  {
   "cell_type": "markdown",
   "id": "f6cf2127",
   "metadata": {},
   "source": [
    "Ans: The differnt types of statistics are\n",
    "    1. Descriptive statistics: It is used to summarize and describe the characteristics of a dataset.\n",
    "    2. Inferential statistics: It is used to make inferences about a population based on a sample.\n",
    "    \n",
    "    Example: Lets say there are 50 students in a math class in the university. We have collected the height of the student in the class. {120,150,157,160,178,140,155,151,140,....}\n",
    "    \n",
    "    Descriptive statistics - The average height of the student in the class\n",
    "    \n",
    "    Inferential statistics - The average height of the student in the classroom is equal to what expected in the entire college.\n",
    "    "
   ]
  },
  {
   "cell_type": "markdown",
   "id": "d1d5a48f",
   "metadata": {},
   "source": [
    "Q3. What are the different types of data and how do they differ from each other? Provide an example of\n",
    "each type of data."
   ]
  },
  {
   "cell_type": "markdown",
   "id": "5eac425e",
   "metadata": {},
   "source": [
    "Ans: \n",
    "\n",
    "Data is defined as a systematic record corresponding to a specific quantity. Basically, data can be summarised as a set of facts and figures which can be used to serve a specific usage or purpose. Data in a systematic and organized form is referred to as information.\n",
    "\n",
    "Types of data are:\n",
    "\n",
    "1. Quantitative data : Quantitative data can be measured and is not just observable. The measurement of data is numerically recorded and represented. Calculations and interpretations can then be performed on the obtained results. Numerical data is indicated by quantitative data.\n",
    "Example: Daily Temperature, Price, Income\n",
    "\n",
    "The types of quantitative data are as follows:\n",
    "    a. Discrete data: Discrete data refers to the data values which can only attain certain specific values. Discrete data can’t attain a range of values. Discrete data can be represented using bar charts. eg: Number of bank accounts, Number of children in a family\n",
    "    b. Continuous data: Continuous Data can contain values between a certain range that is within the highest and lowest values. The corresponding difference between the highest and lowest value of these intervals can be termed as the range of data. Continuous data can be tabulated in what is called a frequency distribution. The frequency distribution table can be computed for the range type of data. It can also be depicted using histograms. eg: Height, weight, Vehical speed\n",
    "    \n",
    "2. Qualitative/Categorical data: Qualitative data is used to represent some characteristics or attributes of the data. The facts and figures depicted by the qualitative data cannot be computed. These properties reflect observable attributes. These are non-numerical in nature. The qualitative data characteristics are exploratory on a larger end than being conclusive in nature.\n",
    "Example: Attitudes of the people towards political system, Music and art, intelligence\n",
    "\n",
    "The types qualitative data are:\n",
    "    a. Nominal data: Nominal data is a sub-category belonging to one of the types of qualitative information. Also known as the nominal scale, it is used to label the variables without providing the numerical value for them. Nominal data attributes can’t either be ordered or measured. The nominal data can be both qualitative and quantitative in nature. The visualization of this data is done using the pie charts. eg: Gender (Women, Men), Eye color (Blue, Green, Brown), Hair color (Blonde, Brown, Brunette, Red, etc.)\n",
    "    b. Ordinal data: Ordinal data/variable is the specific type of data that follows a natural order.  The difference between the data values is not determined in the case of nominal data. For instance, ordinal data variable is mostly found in surveys, economics, questionnaires, and finance operations. The examination of the nominal data is based on the usage of visualization tools. The visualization of this data is done using the bar chart. The ordinal data can be expressed in the form of tables which have each row corresponding to the distinct category.eg: Feedback is recorded in the form of ratings from 1-10, Education level: elementary school, high school, college, Economic status: low, medium, and high."
   ]
  },
  {
   "cell_type": "markdown",
   "id": "3897e1b5",
   "metadata": {},
   "source": [
    "Q4. Categorise the following datasets with respect to quantitative and qualitative data types:\n",
    "\n",
    "(i) Grading in exam: A+, A, B+, B, C+, C, D, E\n",
    "\n",
    "(ii) Colour of mangoes: yellow, green, orange, red\n",
    "\n",
    "(iii) Height data of a class: [178.9, 179, 179.5, 176, 177.2, 178.3, 175.8,...]\n",
    "\n",
    "(iv) Number of mangoes exported by a farm: [500, 600, 478, 672, ...]"
   ]
  },
  {
   "cell_type": "markdown",
   "id": "cb7f4ddb",
   "metadata": {},
   "source": [
    "Ans:\n",
    "\n",
    "(i) Grading in exam: A+, A, B+, B, C+, C, D, E - Qualitative data(Ordinal)\n",
    "\n",
    "(ii) Colour of mangoes: yellow, green, orange, red - Qualitative data(Nominal)\n",
    "\n",
    "(iii) Height data of a class: [178.9, 179, 179.5, 176, 177.2, 178.3, 175.8,...] - Quantitative data (Continuous)\n",
    "\n",
    "(iv) Number of mangoes exported by a farm: [500, 600, 478, 672, ...] - Quantitative data (Discrete)"
   ]
  },
  {
   "cell_type": "markdown",
   "id": "e0cfae6e",
   "metadata": {},
   "source": [
    "Q5. Explain the concept of levels of measurement and give an example of a variable for each level."
   ]
  },
  {
   "cell_type": "markdown",
   "id": "adc83df7",
   "metadata": {},
   "source": [
    "Ans:\n",
    "\n",
    "    Data can be classified as being on one of four scales: nominal, ordinal, interval or ratio. Each level of measurement has some important properties that are useful to know.\n",
    "\n",
    "Properties of Measurement Scales:\n",
    "\n",
    "Identity – Each value on the measurement scale has a unique meaning.\n",
    "Magnitude – Values on the measurement scale have an ordered relationship to one another. That is, some values are larger and some are smaller.\n",
    "Equal intervals – Scale units along the scale are equal to one another. For Example the difference between 1 and 2 would be equal to the difference between 11 and 12.\n",
    "A minimum value of zero – The scale has a true zero point, below which no values exist.\n",
    "\n",
    "1. Nominal Scale Data: \n",
    "    Nominal variables can be placed into categories. \n",
    "    These don’t have a numeric value.\n",
    "    These also have no order, and nominal scale of measurement only satisfies the identity property of measurement.\n",
    "For example, gender is an example of a variable that is measured on a nominal scale. Individuals may be classified as “male” or “female”, but neither value represents more or less “gender” than the other.\n",
    "\n",
    "2. Ordinal Scale Data:\n",
    "    The ordinal scale contains things that you can place in order. \n",
    "    It measures a variable in terms of magnitude, or rank. \n",
    "    Ordinal scales tell us relative order, but give us no information regarding differences between the categories. \n",
    "    The ordinal scale has the property of both identity and magnitude.\n",
    "For example, in a race If Ram takes first and Vidur takes second place, we do not know competition was close by how many seconds.\n",
    "\n",
    "3. Interval Scale Data:\n",
    "    An interval scale has ordered numbers with meaningful divisions, the magnitude between the consecutive intervals are equal. Interval scales do not have a true zero i.e In Celsius 0 degrees does not mean the absence of heat.\n",
    "\n",
    "Interval scales have the properties of:\n",
    "\n",
    "Identity\n",
    "Magnitude\n",
    "Equal distance\n",
    "For example, temperature on Fahrenheit/Celsius thermometer i.e. 90° are hotter than 45° and the difference between 10° and 30° are the same as the difference between 60° degrees and 80°.\n",
    "\n",
    "4. Ratio Scale Data:\n",
    "    The ratio scale of measurement is similar to the interval scale in that it also represents quantity and has equality of units with one major difference: zero is meaningful (no numbers exist below the zero). The true zero allows us to know how many times greater one case is than another. Ratio scales have all of the characteristics of the nominal, ordinal and interval scales. The simplest example of a ratio scale is the measurement of length. Having zero length or zero money means that there is no length and no money but zero temperature is not an absolute zero.\n",
    "\n",
    "Properties of Ratio Scale:\n",
    "\n",
    "Identity\n",
    "Magnitude\n",
    "Equal distance\n",
    "Absolute/true zero\n",
    "For example, in distance 10 miles is twice as long as 5 mile."
   ]
  },
  {
   "cell_type": "markdown",
   "id": "a7c191fc",
   "metadata": {},
   "source": [
    "Q6. Why is it important to understand the level of measurement when analyzing data? Provide an\n",
    "example to illustrate your answer."
   ]
  },
  {
   "cell_type": "markdown",
   "id": "8cf7f7fe",
   "metadata": {},
   "source": [
    "Ans:\n",
    "\n",
    "    Understanding the level of measurement is important when analyzing data because it determines the types of statistical tests and techniques that can be used, as well as the interpretations that can be made from the data. \n",
    "    \n",
    "    There are four levels of measurement: nominal, ordinal, interval, and ratio. Nominal data is categorical and cannot be ranked or ordered, while ordinal data can be ranked or ordered but the differences between values are not meaningful. Interval data has meaningful differences between values, but no true zero point, and ratio data has a true zero point.\n",
    "\n",
    "To illustrate the importance of understanding the level of measurement, consider the following example. A researcher is interested in studying the relationship between education level and income. They collect data on education level (high school diploma, bachelor's degree, master's degree, or PhD) and income (in dollars). The level of measurement for education level is ordinal, while the level of measurement for income is ratio.\n",
    "\n",
    "If the researcher were to treat education level as interval or ratio data, they could make false assumptions about the data, such as assuming that the difference between a high school diploma and a bachelor's degree is the same as the difference between a bachelor's degree and a master's degree. This assumption is incorrect because education level is ordinal, and the differences between levels are not necessarily equal.\n",
    "\n",
    "Additionally, if the researcher were to use statistical tests that are appropriate for interval or ratio data when analyzing education level, the results would be invalid. For example, using a t-test to compare the mean income of individuals with a high school diploma to those with a bachelor's degree would be inappropriate because education level is ordinal, not interval or ratio.\n",
    "\n",
    "In summary, understanding the level of measurement is important when analyzing data because it ensures that appropriate statistical tests and techniques are used, and that the interpretations made from the data are valid."
   ]
  },
  {
   "cell_type": "markdown",
   "id": "b1a351a8",
   "metadata": {},
   "source": [
    "Q7. How nominal data type is different from ordinal data type."
   ]
  },
  {
   "cell_type": "markdown",
   "id": "fa19dcd7",
   "metadata": {},
   "source": [
    "Ans:\n",
    "\n",
    "    In a nominal level variable, values are grouped into categories that have no meaningful order.  For example, gender and political affiliation are nominal level variables.  Members in the group are assigned a label in that group and there is no hierarchy.  Typical descriptive statistics associated with nominal data are frequencies and percentages.\n",
    "    Ordinal level variables are nominal level variables with a meaningful order.  For example, horse race winners can be assigned labels of first, second, third, fourth, etc. and these labels have an ordered relationship among them (i.e., first is higher than second, second is higher than third, and so on).  As with nominal level variables, ordinal level variables are typically described with frequencies and percentages."
   ]
  },
  {
   "cell_type": "markdown",
   "id": "704ad0e9",
   "metadata": {},
   "source": [
    "Q8. Which type of plot can be used to display data in terms of range?"
   ]
  },
  {
   "cell_type": "markdown",
   "id": "0c006f20",
   "metadata": {},
   "source": [
    "Ans:\n",
    "\n",
    "    A box plot, also known as a box-and-whisker plot, is a type of plot that can be used to display data in terms of range.\n",
    "\n",
    "A box plot provides a visual representation of the five-number summary of a dataset, which includes the minimum and maximum values, the first quartile (Q1), the median (Q2), and the third quartile (Q3). The box itself represents the range between the first and third quartiles (the interquartile range, or IQR), while the whiskers represent the range from the minimum to the first quartile and from the third quartile to the maximum. Any points that fall outside the whiskers are considered outliers.\n",
    "\n",
    "Box plots are useful for comparing the distribution of a variable across different groups or categories, as well as for identifying potential outliers. They can also be used to display the spread and skewness of a dataset, as well as any significant deviations from normality.\n"
   ]
  },
  {
   "cell_type": "code",
   "execution_count": 5,
   "id": "5205183e",
   "metadata": {},
   "outputs": [
    {
     "data": {
      "image/png": "[encoded data removed]",
      "text/plain": [
       "<Figure size 640x480 with 1 Axes>"
      ]
     },
     "metadata": {},
     "output_type": "display_data"
    }
   ],
   "source": [
    "#Example\n",
    "\n",
    "import seaborn as sns\n",
    "import matplotlib.pyplot as plt\n",
    "\n",
    "# create a dataset\n",
    "data = [1, 2, 3, 4, 5, 6, 7, 8, 9, 10]\n",
    "\n",
    "# create a box plot\n",
    "sns.boxplot(data=data)\n",
    "\n",
    "# add a title and axis labels\n",
    "plt.title(\"Box plot of data\")\n",
    "plt.xlabel(\"Data\")\n",
    "plt.ylabel(\"Value\")\n",
    "\n",
    "# display the plot\n",
    "plt.show()"
   ]
  },
  {
   "cell_type": "markdown",
   "id": "8acfeb20",
   "metadata": {},
   "source": [
    "Q9. Describe the difference between descriptive and inferential statistics. Give an example of each\n",
    "type of statistics and explain how they are used."
   ]
  },
  {
   "cell_type": "markdown",
   "id": "b6010644",
   "metadata": {},
   "source": [
    "Ans:\n",
    "\n",
    "    Descriptive statistics and inferential statistics are two branches of statistics that serve different purposes.\n",
    "\n",
    "Descriptive statistics involves summarizing and describing the characteristics of a dataset. It focuses on presenting and analyzing the data in a way that allows for a better understanding of the underlying patterns and relationships. Descriptive statistics includes measures of central tendency (such as mean, median, and mode) and measures of variability (such as range, variance, and standard deviation).\n",
    "\n",
    "An example of descriptive statistics would be calculating the average height of a sample of individuals. This would involve computing the mean of the heights of all the individuals in the sample, and possibly other measures such as the range or standard deviation. These descriptive statistics would give us an idea of the central tendency and variability of the heights in the sample, but would not necessarily allow us to make any inferences about the population as a whole.\n",
    "\n",
    "In contrast, inferential statistics involves using sample data to make inferences about a larger population. It involves drawing conclusions about the population based on the information obtained from a representative sample of that population. Inferential statistics relies on probability theory and statistical models to make predictions and test hypotheses.\n",
    "\n",
    "An example of inferential statistics would be conducting a hypothesis test to determine whether the average height of a population is significantly different from a certain value. This would involve collecting a representative sample of individuals, calculating the mean height of the sample, and using statistical tests to determine the probability of obtaining the observed mean if the null hypothesis (that the population mean is equal to the specified value) were true. If the probability is very low, we might reject the null hypothesis and conclude that the population mean height is indeed significantly different from the specified value.\n",
    "\n",
    "In summary, descriptive statistics is used to describe and summarize the characteristics of a dataset, while inferential statistics is used to draw conclusions and make predictions about a larger population based on a representative sample of that population."
   ]
  },
  {
   "cell_type": "markdown",
   "id": "fb8ac36d",
   "metadata": {},
   "source": [
    "Q10. What are some common measures of central tendency and variability used in statistics? Explain\n",
    "how each measure can be used to describe a dataset."
   ]
  },
  {
   "cell_type": "markdown",
   "id": "e22373ba",
   "metadata": {},
   "source": [
    "Ans:\n",
    "\n",
    "    Measures of central tendency and variability are commonly used in statistics to summarize and describe a dataset. The choice of measure depends on the type of data and the research question being investigated. Here are some common measures of central tendency and variability:\n",
    "\n",
    "Measures of Central Tendency:\n",
    "\n",
    "Mean: The mean is the arithmetic average of a set of numbers. It is calculated by adding up all the numbers in the dataset and dividing by the total number of values. The mean is a useful measure of central tendency when the data is normally distributed and does not have outliers.\n",
    "\n",
    "Median: The median is the middle value of a dataset when the values are arranged in order. It is a useful measure of central tendency when the data has outliers or is not normally distributed.\n",
    "\n",
    "Mode: The mode is the value that appears most frequently in a dataset. It is a useful measure of central tendency when the data has a clear peak or is categorical in nature.\n",
    "\n",
    "Measures of Variability:\n",
    "\n",
    "Range: The range is the difference between the maximum and minimum values in a dataset. It provides a rough estimate of the spread of the data.\n",
    "\n",
    "Variance: The variance measures how much the individual data points deviate from the mean of the dataset. It is calculated by summing the squared deviations from the mean and dividing by the total number of values minus one.\n",
    "\n",
    "Standard Deviation: The standard deviation is the square root of the variance. It provides a more intuitive measure of variability than the variance and is useful for comparing datasets that have different units or scales.\n",
    "\n",
    "These measures can be used to describe a dataset in various ways. For example, the mean and standard deviation can be used to describe the distribution of a normally distributed variable, while the median and interquartile range (a measure of variability based on the range between the 25th and 75th percentiles) can be used to describe a skewed or non-normal distribution. The mode can be used to describe the most frequent value in a dataset, which may be useful for understanding the typical response in a survey or experiment. The range can be used to identify the minimum and maximum values in a dataset, while the variance and standard deviation can provide information on the variability or spread of the data."
   ]
  },
  {
   "cell_type": "code",
   "execution_count": null,
   "id": "8131006e",
   "metadata": {},
   "outputs": [],
   "source": []
  }
 ],
 "metadata": {
  "kernelspec": {
   "display_name": "Python 3 (ipykernel)",
   "language": "python",
   "name": "python3"
  },
  "language_info": {
   "codemirror_mode": {
    "name": "ipython",
    "version": 3
   },
   "file_extension": ".py",
   "mimetype": "text/x-python",
   "name": "python",
   "nbconvert_exporter": "python",
   "pygments_lexer": "ipython3",
   "version": "3.9.13"
  }
 },
 "nbformat": 4,
 "nbformat_minor": 5
}
