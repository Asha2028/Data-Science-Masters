{
 "cells": [
  {
   "cell_type": "raw",
   "id": "e520ab56",
   "metadata": {},
   "source": [
    "Q1. What is an Exception in python? Write the difference between Exceptions and Syntax errors."
   ]
  },
  {
   "cell_type": "raw",
   "id": "3d5e1bd2",
   "metadata": {},
   "source": [
    "Ans: \n",
    "    When there is an occurance of logical error while executing the program which changes the flow of the program is called Exceptions.\n",
    "\n",
    "Two types of error occurs in python:\n",
    "1. Syntax errors\n",
    "2. Logical errors (Exceptions)\n",
    "\n",
    "Syntax errors: When the proper syntax of the language is not followed then a syntax error is thrown.\n",
    "\n",
    "Logical errors (Exceptions): When in the runtime an error that occurs after passing the syntax test is called exception or logical type. For example, when we divide any number by zero then ZeroDivisionError exception is raised, or when we import the module which doesn't exist then ImportError is raised.\n",
    "    "
   ]
  },
  {
   "cell_type": "code",
   "execution_count": 1,
   "id": "4f7d9f7c",
   "metadata": {},
   "outputs": [
    {
     "ename": "SyntaxError",
     "evalue": "invalid syntax (2293311068.py, line 5)",
     "output_type": "error",
     "traceback": [
      "\u001b[0;36m  File \u001b[0;32m\"/var/folders/p9/2ngwgj9d35lb8417qgydrrkr0000gn/T/ipykernel_1176/2293311068.py\"\u001b[0;36m, line \u001b[0;32m5\u001b[0m\n\u001b[0;31m    if amount > 500\u001b[0m\n\u001b[0m                   ^\u001b[0m\n\u001b[0;31mSyntaxError\u001b[0m\u001b[0;31m:\u001b[0m invalid syntax\n"
     ]
    }
   ],
   "source": [
    "#Example  - Syntax error\n",
    "\n",
    "amount = 1000\n",
    "\n",
    "if amount > 500\n",
    "    print(\"The amount can be used to by snacks.\")"
   ]
  },
  {
   "cell_type": "raw",
   "id": "f398cd1c",
   "metadata": {},
   "source": [
    "The above example returns the syntax error because in the if condition colon(:) is missed."
   ]
  },
  {
   "cell_type": "code",
   "execution_count": 2,
   "id": "906c9bd9",
   "metadata": {},
   "outputs": [
    {
     "ename": "ZeroDivisionError",
     "evalue": "division by zero",
     "output_type": "error",
     "traceback": [
      "\u001b[0;31m---------------------------------------------------------------------------\u001b[0m",
      "\u001b[0;31mZeroDivisionError\u001b[0m                         Traceback (most recent call last)",
      "\u001b[0;32m/var/folders/p9/2ngwgj9d35lb8417qgydrrkr0000gn/T/ipykernel_1176/783079909.py\u001b[0m in \u001b[0;36m<module>\u001b[0;34m\u001b[0m\n\u001b[1;32m      2\u001b[0m \u001b[0;34m\u001b[0m\u001b[0m\n\u001b[1;32m      3\u001b[0m \u001b[0ma\u001b[0m \u001b[0;34m=\u001b[0m\u001b[0;36m10\u001b[0m\u001b[0;34m\u001b[0m\u001b[0;34m\u001b[0m\u001b[0m\n\u001b[0;32m----> 4\u001b[0;31m \u001b[0ma\u001b[0m\u001b[0;34m/\u001b[0m\u001b[0;36m0\u001b[0m\u001b[0;34m\u001b[0m\u001b[0;34m\u001b[0m\u001b[0m\n\u001b[0m\u001b[1;32m      5\u001b[0m \u001b[0ma\u001b[0m\u001b[0;34m\u001b[0m\u001b[0;34m\u001b[0m\u001b[0m\n",
      "\u001b[0;31mZeroDivisionError\u001b[0m: division by zero"
     ]
    }
   ],
   "source": [
    "#Example - Exception\n",
    "\n",
    "a =10\n",
    "a/0\n",
    "a"
   ]
  },
  {
   "cell_type": "code",
   "execution_count": 3,
   "id": "8869705b",
   "metadata": {},
   "outputs": [
    {
     "ename": "IndentationError",
     "evalue": "expected an indented block (2059822803.py, line 2)",
     "output_type": "error",
     "traceback": [
      "\u001b[0;36m  File \u001b[0;32m\"/var/folders/p9/2ngwgj9d35lb8417qgydrrkr0000gn/T/ipykernel_1176/2059822803.py\"\u001b[0;36m, line \u001b[0;32m2\u001b[0m\n\u001b[0;31m    print(\"hjd\")\u001b[0m\n\u001b[0m    ^\u001b[0m\n\u001b[0;31mIndentationError\u001b[0m\u001b[0;31m:\u001b[0m expected an indented block\n"
     ]
    }
   ],
   "source": [
    "#IndentationError\n",
    "if (a<3):\n",
    "print(\"hjd\")"
   ]
  },
  {
   "cell_type": "raw",
   "id": "e6716add",
   "metadata": {},
   "source": [
    "The few built-in Exceptions which are named as:\n",
    "    IndexError: When the wrong index of the list is retrieved\n",
    "    KeyError: It occurs when the key of the dictionary is not found\n",
    "    MemoryError: It occurs when a program runs out of memory\n",
    "        TypeError: It occurs when a funtion and operation are applied in an incorrect type."
   ]
  },
  {
   "cell_type": "raw",
   "id": "b531d06e",
   "metadata": {},
   "source": [
    "Q2. What happens when an exception is not handled? Explain with an example."
   ]
  },
  {
   "cell_type": "raw",
   "id": "bc614dfd",
   "metadata": {},
   "source": [
    "Ans:\n",
    "    If exceptions are not handled then it terminates the execution program abruptly"
   ]
  },
  {
   "cell_type": "code",
   "execution_count": 4,
   "id": "664c934a",
   "metadata": {
    "scrolled": true
   },
   "outputs": [
    {
     "ename": "ZeroDivisionError",
     "evalue": "division by zero",
     "output_type": "error",
     "traceback": [
      "\u001b[0;31m---------------------------------------------------------------------------\u001b[0m",
      "\u001b[0;31mZeroDivisionError\u001b[0m                         Traceback (most recent call last)",
      "\u001b[0;32m/var/folders/p9/2ngwgj9d35lb8417qgydrrkr0000gn/T/ipykernel_1176/1906052348.py\u001b[0m in \u001b[0;36m<module>\u001b[0;34m\u001b[0m\n\u001b[1;32m      4\u001b[0m \u001b[0mdenominator\u001b[0m \u001b[0;34m=\u001b[0m \u001b[0;36m0\u001b[0m\u001b[0;34m\u001b[0m\u001b[0;34m\u001b[0m\u001b[0m\n\u001b[1;32m      5\u001b[0m \u001b[0;34m\u001b[0m\u001b[0m\n\u001b[0;32m----> 6\u001b[0;31m \u001b[0mresult\u001b[0m \u001b[0;34m=\u001b[0m \u001b[0mnumerator\u001b[0m\u001b[0;34m/\u001b[0m\u001b[0mdenominator\u001b[0m\u001b[0;34m\u001b[0m\u001b[0;34m\u001b[0m\u001b[0m\n\u001b[0m\u001b[1;32m      7\u001b[0m \u001b[0;34m\u001b[0m\u001b[0m\n\u001b[1;32m      8\u001b[0m \u001b[0mprint\u001b[0m\u001b[0;34m(\u001b[0m\u001b[0mresult\u001b[0m\u001b[0;34m)\u001b[0m\u001b[0;34m\u001b[0m\u001b[0;34m\u001b[0m\u001b[0m\n",
      "\u001b[0;31mZeroDivisionError\u001b[0m: division by zero"
     ]
    }
   ],
   "source": [
    "#Example\n",
    "\n",
    "numerator = 10\n",
    "denominator = 0\n",
    "\n",
    "result = numerator/denominator\n",
    "\n",
    "print(result)\n",
    "\n",
    "#The below statement is not executed\n",
    "print(\"Error: Denominator cannot be 0.\")"
   ]
  },
  {
   "cell_type": "raw",
   "id": "cdc53a95",
   "metadata": {},
   "source": [
    "Q3. Which python statements are used to catch and handle exceptions> Explain with an example."
   ]
  },
  {
   "cell_type": "raw",
   "id": "57e92c28",
   "metadata": {},
   "source": [
    "Ans: \n",
    "    The try-except block is used to handle exceptions in python."
   ]
  },
  {
   "cell_type": "code",
   "execution_count": 7,
   "id": "43deb65a",
   "metadata": {},
   "outputs": [
    {
     "name": "stdout",
     "output_type": "stream",
     "text": [
      "Error: Denominator cannot be 0.\n"
     ]
    }
   ],
   "source": [
    "#We handle the exceptions using try and except block\n",
    "\n",
    "try:\n",
    "    numerator = 10\n",
    "    denominator = 0\n",
    "\n",
    "    result = numerator/denominator\n",
    "\n",
    "    print(result)\n",
    "except:\n",
    "    print(\"Error: Denominator cannot be 0.\")"
   ]
  },
  {
   "cell_type": "raw",
   "id": "4efd590e",
   "metadata": {},
   "source": [
    "Q4. Explain with an example:\n",
    "    a. try and else\n",
    "    b. finally\n",
    "    c. raise"
   ]
  },
  {
   "cell_type": "raw",
   "id": "d1dec351",
   "metadata": {},
   "source": [
    "Ans:\n",
    "    \n",
    "a. try and else: The else block will execute only if the try block executes without any exception.\n",
    "\n",
    "b. finally: This block will execute regardless of exception occurs or not.\n",
    "\n",
    "c. raise: The raise keyword is used to raise an exceptions and errors. The raise keyword raises an error and stops the control flow of the program."
   ]
  },
  {
   "cell_type": "code",
   "execution_count": 8,
   "id": "26bfdf9f",
   "metadata": {},
   "outputs": [
    {
     "name": "stdout",
     "output_type": "stream",
     "text": [
      "this block executes once the try block executes itself without an exception\n"
     ]
    }
   ],
   "source": [
    "#Example: try - else\n",
    "\n",
    "try:\n",
    "    f = open(\"tes1.txt\",\"w\")\n",
    "    f.write(\"this is my file msg\")\n",
    "    \n",
    "except Exception as e:\n",
    "    print(\"there some issue with my code\")\n",
    "else:\n",
    "    f.close()\n",
    "    print(\"this block executes once the try block executes itself without an exception\")\n",
    "    "
   ]
  },
  {
   "cell_type": "code",
   "execution_count": 9,
   "id": "b594730a",
   "metadata": {},
   "outputs": [
    {
     "name": "stdout",
     "output_type": "stream",
     "text": [
      "it will execute always regardless of exception\n"
     ]
    },
    {
     "ename": "FileNotFoundError",
     "evalue": "[Errno 2] No such file or directory: 'tes11.txt'",
     "output_type": "error",
     "traceback": [
      "\u001b[0;31m---------------------------------------------------------------------------\u001b[0m",
      "\u001b[0;31mFileNotFoundError\u001b[0m                         Traceback (most recent call last)",
      "\u001b[0;32m/var/folders/p9/2ngwgj9d35lb8417qgydrrkr0000gn/T/ipykernel_1176/1498052670.py\u001b[0m in \u001b[0;36m<module>\u001b[0;34m\u001b[0m\n\u001b[1;32m      2\u001b[0m \u001b[0;34m\u001b[0m\u001b[0m\n\u001b[1;32m      3\u001b[0m \u001b[0;32mtry\u001b[0m\u001b[0;34m:\u001b[0m\u001b[0;34m\u001b[0m\u001b[0;34m\u001b[0m\u001b[0m\n\u001b[0;32m----> 4\u001b[0;31m     \u001b[0mf\u001b[0m \u001b[0;34m=\u001b[0m \u001b[0mopen\u001b[0m\u001b[0;34m(\u001b[0m\u001b[0;34m\"tes11.txt\"\u001b[0m\u001b[0;34m,\u001b[0m\u001b[0;34m\"r\"\u001b[0m\u001b[0;34m)\u001b[0m\u001b[0;34m\u001b[0m\u001b[0;34m\u001b[0m\u001b[0m\n\u001b[0m\u001b[1;32m      5\u001b[0m     \u001b[0mf\u001b[0m\u001b[0;34m.\u001b[0m\u001b[0mwrite\u001b[0m\u001b[0;34m(\u001b[0m\u001b[0;34m\"this is my file msg\"\u001b[0m\u001b[0;34m)\u001b[0m\u001b[0;34m\u001b[0m\u001b[0;34m\u001b[0m\u001b[0m\n\u001b[1;32m      6\u001b[0m \u001b[0;32mfinally\u001b[0m\u001b[0;34m:\u001b[0m\u001b[0;34m\u001b[0m\u001b[0;34m\u001b[0m\u001b[0m\n",
      "\u001b[0;31mFileNotFoundError\u001b[0m: [Errno 2] No such file or directory: 'tes11.txt'"
     ]
    }
   ],
   "source": [
    "#Example - try and finally\n",
    "\n",
    "try:\n",
    "    f = open(\"tes11.txt\",\"r\")\n",
    "    f.write(\"this is my file msg\")\n",
    "finally:\n",
    "    print(\"it will execute always regardless of exception\")"
   ]
  },
  {
   "cell_type": "code",
   "execution_count": 10,
   "id": "6456d8bf",
   "metadata": {},
   "outputs": [
    {
     "ename": "Exception",
     "evalue": "The number shouldn't be an odd integer",
     "output_type": "error",
     "traceback": [
      "\u001b[0;31m---------------------------------------------------------------------------\u001b[0m",
      "\u001b[0;31mException\u001b[0m                                 Traceback (most recent call last)",
      "\u001b[0;32m/var/folders/p9/2ngwgj9d35lb8417qgydrrkr0000gn/T/ipykernel_1176/1881885262.py\u001b[0m in \u001b[0;36m<module>\u001b[0;34m\u001b[0m\n\u001b[1;32m      4\u001b[0m \u001b[0;34m\u001b[0m\u001b[0m\n\u001b[1;32m      5\u001b[0m \u001b[0;32mif\u001b[0m \u001b[0ma\u001b[0m \u001b[0;34m%\u001b[0m \u001b[0;36m2\u001b[0m \u001b[0;34m!=\u001b[0m \u001b[0;36m0\u001b[0m\u001b[0;34m:\u001b[0m\u001b[0;34m\u001b[0m\u001b[0;34m\u001b[0m\u001b[0m\n\u001b[0;32m----> 6\u001b[0;31m     \u001b[0;32mraise\u001b[0m \u001b[0mException\u001b[0m\u001b[0;34m(\u001b[0m\u001b[0;34m\"The number shouldn't be an odd integer\"\u001b[0m\u001b[0;34m)\u001b[0m\u001b[0;34m\u001b[0m\u001b[0;34m\u001b[0m\u001b[0m\n\u001b[0m",
      "\u001b[0;31mException\u001b[0m: The number shouldn't be an odd integer"
     ]
    }
   ],
   "source": [
    "#Example: raise keyword\n",
    "\n",
    "a = 5\n",
    "  \n",
    "if a % 2 != 0:\n",
    "    raise Exception(\"The number shouldn't be an odd integer\")"
   ]
  },
  {
   "cell_type": "raw",
   "id": "37b11647",
   "metadata": {},
   "source": [
    "Q5. What are the custom Exceptions in python? Why do we need custom exceptions? Explain with an example."
   ]
  },
  {
   "cell_type": "raw",
   "id": "fc56bd46",
   "metadata": {},
   "source": [
    "def validate_age(age):\n",
    "    if age < 0 :\n",
    "        raise validateage(\"age should not be lesser than 0\")\n",
    "    elif age > 200:\n",
    "        raise validateage(\"age is too high\")\n",
    "    else:\n",
    "        print(\"age is valid\")Ans:\n",
    "    In python, we can create custom exceptions by creating a new class that is inherites/derived from Exception class.\n",
    "    The custom exceptions are created to customize the exception according to the user need."
   ]
  },
  {
   "cell_type": "code",
   "execution_count": 19,
   "id": "970ddffd",
   "metadata": {},
   "outputs": [
    {
     "name": "stdout",
     "output_type": "stream",
     "text": [
      "Enter age: 09876\n",
      "Not eligible to vote  \n"
     ]
    }
   ],
   "source": [
    "#Example: custom exception\n",
    "\n",
    "class InvalidAge(Exception):\n",
    "    \"Raised when the input value is less than 18\"\n",
    "\n",
    "try:\n",
    "    enter_age = int(input(\"Enter age: \"))\n",
    "    if enter_age < 18:\n",
    "        raise InvalidAge\n",
    "    elif enter_age > 150:\n",
    "        raise InvalidAge\n",
    "    else:\n",
    "        print(\"Eligible to vote\")\n",
    "except InvalidAge as e:\n",
    "    print(\"Not eligible to vote \" ,e)"
   ]
  },
  {
   "cell_type": "raw",
   "id": "0184f235",
   "metadata": {},
   "source": [
    "Q6. Create a custom exception clas. Use this class to handle the exception."
   ]
  },
  {
   "cell_type": "code",
   "execution_count": 12,
   "id": "29db056a",
   "metadata": {},
   "outputs": [
    {
     "name": "stdout",
     "output_type": "stream",
     "text": [
      "Enter your age: -0987\n",
      "age should not be lesser than 0\n"
     ]
    }
   ],
   "source": [
    "\n",
    "class validateage(Exception):\n",
    "    def __init__(self,msg):\n",
    "        self.msg = msg\n",
    "        \n",
    "def validate_age(age):\n",
    "    if age < 0 :\n",
    "        raise validateage(\"age should not be lesser than 0\")\n",
    "    elif age > 200:\n",
    "        raise validateage(\"age is too high\")\n",
    "    else:\n",
    "        print(\"age is valid\")\n",
    "        \n",
    "try:\n",
    "    age = int(input(\"Enter your age: \"))\n",
    "    validate_age(age)\n",
    "except validateage as e:\n",
    "    print(e)"
   ]
  },
  {
   "cell_type": "code",
   "execution_count": null,
   "id": "b3cc7642",
   "metadata": {},
   "outputs": [],
   "source": []
  }
 ],
 "metadata": {
  "kernelspec": {
   "display_name": "Python 3 (ipykernel)",
   "language": "python",
   "name": "python3"
  },
  "language_info": {
   "codemirror_mode": {
    "name": "ipython",
    "version": 3
   },
   "file_extension": ".py",
   "mimetype": "text/x-python",
   "name": "python",
   "nbconvert_exporter": "python",
   "pygments_lexer": "ipython3",
   "version": "3.9.13"
  }
 },
 "nbformat": 4,
 "nbformat_minor": 5
}
