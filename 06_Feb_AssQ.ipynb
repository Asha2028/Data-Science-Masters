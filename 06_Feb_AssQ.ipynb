{
 "cells": [
  {
   "cell_type": "raw",
   "id": "145d8476",
   "metadata": {},
   "source": [
    "Q1. Create a function which will take a list as an argument and return the product of all the numbers\n",
    "after creating a flat list.\n",
    "\n",
    "Use the below-given list as an argument for your function.\n",
    "\n",
    "list1 = [1,2,3,4, [44,55,66, True], False, (34,56,78,89,34), {1,2,3,3,2,1}, {1:34, \"key2\": [55, 67, 78, 89], 4: (45,\n",
    "22, 61, 34)}, [56, 'data science'], 'Machine Learning']\n",
    "\n",
    "Note: you must extract numeric keys and values of the dictionary also."
   ]
  },
  {
   "cell_type": "code",
   "execution_count": 8,
   "id": "f517e011",
   "metadata": {},
   "outputs": [],
   "source": [
    "list1 = [1,2,3,4, [44,55,66, True], False, (34,56,78,89,34), {1,2,3,3,2,1}, {1:34, \"key2\": [55, 67, 78, 89], 4: (45,\n",
    "22, 61, 34)}, [56, 'data science'], 'Machine Learning']"
   ]
  },
  {
   "cell_type": "code",
   "execution_count": 76,
   "id": "6e664c87",
   "metadata": {},
   "outputs": [
    {
     "data": {
      "text/plain": [
       "1904"
      ]
     },
     "execution_count": 76,
     "metadata": {},
     "output_type": "execute_result"
    }
   ],
   "source": [
    "def list_product(list1):\n",
    "    l = []\n",
    "    prod =0\n",
    "    for i in list1:\n",
    "        if type(i) == int or type(i)==float:\n",
    "            l.append(i)\n",
    "        elif type(i) == list or type(i)==tuple:\n",
    "            for j in i:\n",
    "                if type(j) == int or type(j)==float:\n",
    "                    l.append(j)\n",
    "                    \n",
    "        elif type(i) == set:\n",
    "            for j in i:\n",
    "                if type(j) == int or type(j) == float:\n",
    "                    l.append(j)\n",
    "                    \n",
    "        elif type(i) == dict:\n",
    "            d_values = i.values()\n",
    "            for j in d_values:\n",
    "                if type(j) == int or type(j) == float:\n",
    "                    l.append(j)\n",
    "                elif type(j) == list or type(j) == tuple:\n",
    "                    for i in j:\n",
    "                        if type(i) == int or type(i)== float:\n",
    "                            l.append(i)\n",
    "                        elif type(i) == set:\n",
    "                            for j in i:\n",
    "                                if type(j) == int or type(j) == float:\n",
    "                                    l.append(j)\n",
    "    for i in range(len(l1)-1):\n",
    "        prod = l1[i]*l1[i+1]\n",
    "        \n",
    "    return prod\n",
    "\n",
    "list_product(list1)"
   ]
  },
  {
   "cell_type": "raw",
   "id": "3cc89db2",
   "metadata": {},
   "source": [
    "Q2. Write a python program for encrypting a message sent to you by your friend. The logic of encryption should be such that, \n",
    "    for a the output should be z. \n",
    "    For b, the output should be y. \n",
    "    For c, the output should be x respectively.\n",
    "      \n",
    "    Also, the whitespace should be replaced with a dollar sign. Keep the punctuation marks unchanged.\n",
    "\n",
    "Input Sentence: I want to become a Data Scientist.\n",
    "Encrypt the above input sentence using the program you just created.\n",
    "\n",
    "Note: Convert the given input sentence into lowercase before encrypting. The final output should be\n",
    "lowercase."
   ]
  },
  {
   "cell_type": "code",
   "execution_count": 84,
   "id": "02a727e9",
   "metadata": {},
   "outputs": [
    {
     "data": {
      "text/plain": [
       "'i$wznt$to$yexome$z$dztz$sxientist'"
      ]
     },
     "execution_count": 84,
     "metadata": {},
     "output_type": "execute_result"
    }
   ],
   "source": [
    "input_sentence = \"I want to become a Data Scientist\"\n",
    "input_sentence.lower().replace(\" \", \"$\").replace(\"a\",\"z\").replace(\"b\", \"y\").replace(\"c\",\"x\")\n"
   ]
  },
  {
   "cell_type": "code",
   "execution_count": null,
   "id": "d09f482e",
   "metadata": {},
   "outputs": [],
   "source": []
  },
  {
   "cell_type": "code",
   "execution_count": null,
   "id": "04bf5869",
   "metadata": {},
   "outputs": [],
   "source": []
  },
  {
   "cell_type": "code",
   "execution_count": null,
   "id": "bb00b94d",
   "metadata": {},
   "outputs": [],
   "source": []
  }
 ],
 "metadata": {
  "kernelspec": {
   "display_name": "Python 3 (ipykernel)",
   "language": "python",
   "name": "python3"
  },
  "language_info": {
   "codemirror_mode": {
    "name": "ipython",
    "version": 3
   },
   "file_extension": ".py",
   "mimetype": "text/x-python",
   "name": "python",
   "nbconvert_exporter": "python",
   "pygments_lexer": "ipython3",
   "version": "3.9.13"
  }
 },
 "nbformat": 4,
 "nbformat_minor": 5
}
