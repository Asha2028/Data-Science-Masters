{
 "cells": [
  {
   "cell_type": "markdown",
   "id": "cdff4064",
   "metadata": {},
   "source": [
    "Q1. Create a list in python using the followings: 2,3,4,5,6,7 with variable ‘a’\n",
    "\n",
    "Add ‘mango to the above list\n",
    "\n",
    "Also add banana, grapes & orange in the list\n",
    "\n",
    "insert apple in the 5th position of a variable ‘a’\n",
    "\n",
    "Remove last item from the list"
   ]
  },
  {
   "cell_type": "code",
   "execution_count": 1,
   "id": "4b6c691b",
   "metadata": {},
   "outputs": [],
   "source": [
    "a = [2,3,4,5,6,7]"
   ]
  },
  {
   "cell_type": "code",
   "execution_count": 2,
   "id": "4b3d2633",
   "metadata": {},
   "outputs": [
    {
     "data": {
      "text/plain": [
       "[2, 3, 4, 5, 6, 7]"
      ]
     },
     "execution_count": 2,
     "metadata": {},
     "output_type": "execute_result"
    }
   ],
   "source": [
    "a"
   ]
  },
  {
   "cell_type": "code",
   "execution_count": 3,
   "id": "04c4d730",
   "metadata": {},
   "outputs": [],
   "source": [
    "a.append(\"mango\")"
   ]
  },
  {
   "cell_type": "code",
   "execution_count": 4,
   "id": "2d2439d1",
   "metadata": {},
   "outputs": [
    {
     "data": {
      "text/plain": [
       "[2, 3, 4, 5, 6, 7, 'mango']"
      ]
     },
     "execution_count": 4,
     "metadata": {},
     "output_type": "execute_result"
    }
   ],
   "source": [
    "a"
   ]
  },
  {
   "cell_type": "code",
   "execution_count": 9,
   "id": "3162b0d7",
   "metadata": {},
   "outputs": [],
   "source": [
    "a.extend([\"banana\", \"grapes\", \"orange\"])"
   ]
  },
  {
   "cell_type": "code",
   "execution_count": 15,
   "id": "2ce3010d",
   "metadata": {},
   "outputs": [
    {
     "data": {
      "text/plain": [
       "[2, 3, 4, 5, 6, 7, 'mango', 'banana', 'grapes', 'orange']"
      ]
     },
     "execution_count": 15,
     "metadata": {},
     "output_type": "execute_result"
    }
   ],
   "source": [
    "a"
   ]
  },
  {
   "cell_type": "code",
   "execution_count": 16,
   "id": "8d5fb3c1",
   "metadata": {},
   "outputs": [],
   "source": [
    "a.insert(4,\"apple\")"
   ]
  },
  {
   "cell_type": "code",
   "execution_count": 17,
   "id": "914cbfe7",
   "metadata": {},
   "outputs": [
    {
     "data": {
      "text/plain": [
       "[2, 3, 4, 5, 'apple', 6, 7, 'mango', 'banana', 'grapes', 'orange']"
      ]
     },
     "execution_count": 17,
     "metadata": {},
     "output_type": "execute_result"
    }
   ],
   "source": [
    "a"
   ]
  },
  {
   "cell_type": "code",
   "execution_count": 18,
   "id": "54e26a49",
   "metadata": {},
   "outputs": [
    {
     "data": {
      "text/plain": [
       "'orange'"
      ]
     },
     "execution_count": 18,
     "metadata": {},
     "output_type": "execute_result"
    }
   ],
   "source": [
    "a.pop()"
   ]
  },
  {
   "cell_type": "code",
   "execution_count": 19,
   "id": "9fd7255b",
   "metadata": {},
   "outputs": [
    {
     "data": {
      "text/plain": [
       "[2, 3, 4, 5, 'apple', 6, 7, 'mango', 'banana', 'grapes']"
      ]
     },
     "execution_count": 19,
     "metadata": {},
     "output_type": "execute_result"
    }
   ],
   "source": [
    "a"
   ]
  },
  {
   "cell_type": "markdown",
   "id": "4e2bfa5e",
   "metadata": {},
   "source": [
    "Q2.\n",
    "\n",
    "L = [1,2,3,4,5,6,7]\n",
    "\n",
    "Using the above list slice from 1:4"
   ]
  },
  {
   "cell_type": "code",
   "execution_count": 20,
   "id": "9fdfc2d1",
   "metadata": {},
   "outputs": [
    {
     "data": {
      "text/plain": [
       "[2, 3, 4]"
      ]
     },
     "execution_count": 20,
     "metadata": {},
     "output_type": "execute_result"
    }
   ],
   "source": [
    "l = [1,2,3,4,5,6,7]\n",
    "l[1:4]"
   ]
  },
  {
   "cell_type": "markdown",
   "id": "ef5a7e3e",
   "metadata": {},
   "source": [
    "Q3. Reverse the order of given string L = [4,5,6,8,3] Without using reverse() function."
   ]
  },
  {
   "cell_type": "code",
   "execution_count": 21,
   "id": "f05e5523",
   "metadata": {},
   "outputs": [
    {
     "data": {
      "text/plain": [
       "[3, 8, 6, 5, 4]"
      ]
     },
     "execution_count": 21,
     "metadata": {},
     "output_type": "execute_result"
    }
   ],
   "source": [
    "l = [4,5,6,8,3]\n",
    "l[::-1]"
   ]
  },
  {
   "cell_type": "markdown",
   "id": "3837ca79",
   "metadata": {},
   "source": [
    "Q4. Use list comprehension to square the given list L=[2,4,7,3,6,8]"
   ]
  },
  {
   "cell_type": "code",
   "execution_count": 22,
   "id": "d7819bba",
   "metadata": {},
   "outputs": [
    {
     "data": {
      "text/plain": [
       "[4, 9, 49, 9, 36, 64]"
      ]
     },
     "execution_count": 22,
     "metadata": {},
     "output_type": "execute_result"
    }
   ],
   "source": [
    "l = [2,3,7,3,6,8]\n",
    "[i**2 for i in l]"
   ]
  },
  {
   "cell_type": "markdown",
   "id": "fbf702fc",
   "metadata": {},
   "source": [
    "Q5. Create a function that takes in a tuple of integers and returns the sum of the integers. Test the function with a tuple of your choice."
   ]
  },
  {
   "cell_type": "code",
   "execution_count": 28,
   "id": "e9285c2b",
   "metadata": {},
   "outputs": [
    {
     "data": {
      "text/plain": [
       "15"
      ]
     },
     "execution_count": 28,
     "metadata": {},
     "output_type": "execute_result"
    }
   ],
   "source": [
    "def t_sum(t):\n",
    "    sum = 0\n",
    "    for i in t:\n",
    "        if type(i) == int:\n",
    "            sum += i\n",
    "    return sum\n",
    "\n",
    "t = (1,2,3,4,5)\n",
    "t_sum(t)"
   ]
  },
  {
   "cell_type": "markdown",
   "id": "cdb270a9",
   "metadata": {},
   "source": [
    "Q6. Create two sets of your favourite fruits, and use the union() method to combine them into a single set.\n",
    "Print the resulting set to the console."
   ]
  },
  {
   "cell_type": "code",
   "execution_count": 33,
   "id": "6af80d82",
   "metadata": {},
   "outputs": [
    {
     "data": {
      "text/plain": [
       "{'apple', 'kiwi', 'mango', 'orange', 'peach'}"
      ]
     },
     "execution_count": 33,
     "metadata": {},
     "output_type": "execute_result"
    }
   ],
   "source": [
    "s1 = {\"apple\",\"mango\",\"orange\"}\n",
    "s2 = {\"kiwi\", \"peach\", \"orange\"}\n",
    "result = s1.union(s2)\n",
    "result"
   ]
  },
  {
   "cell_type": "markdown",
   "id": "85a1bc30",
   "metadata": {},
   "source": [
    "Q7. Create a set of random words, and use the add() method to add a new word to the set. Print the\n",
    "resulting set to the console."
   ]
  },
  {
   "cell_type": "code",
   "execution_count": 35,
   "id": "dbc74ac8",
   "metadata": {},
   "outputs": [
    {
     "data": {
      "text/plain": [
       "{'set of', 'words'}"
      ]
     },
     "execution_count": 35,
     "metadata": {},
     "output_type": "execute_result"
    }
   ],
   "source": [
    "s = {\"set of\", \"words\"}\n",
    "s"
   ]
  },
  {
   "cell_type": "code",
   "execution_count": 40,
   "id": "867501c4",
   "metadata": {},
   "outputs": [],
   "source": [
    "s.add(\" pwskills\")"
   ]
  },
  {
   "cell_type": "code",
   "execution_count": 41,
   "id": "4a6cb685",
   "metadata": {},
   "outputs": [
    {
     "data": {
      "text/plain": [
       "{' pwskills', 'newset', 'set of', 'words'}"
      ]
     },
     "execution_count": 41,
     "metadata": {},
     "output_type": "execute_result"
    }
   ],
   "source": [
    "s"
   ]
  },
  {
   "cell_type": "markdown",
   "id": "b1b3a135",
   "metadata": {},
   "source": [
    "Q8. Create a set of your favourite animals, and use the remove() method to remove one animal from the\n",
    "set. Print the resulting set to the console."
   ]
  },
  {
   "cell_type": "code",
   "execution_count": 42,
   "id": "6f847f69",
   "metadata": {},
   "outputs": [],
   "source": [
    "animals = {\"Dog\", \"Camel\", \"Fox\", \"Wolf\"}"
   ]
  },
  {
   "cell_type": "code",
   "execution_count": 43,
   "id": "3fb3c96e",
   "metadata": {},
   "outputs": [
    {
     "data": {
      "text/plain": [
       "{'Camel', 'Dog', 'Fox', 'Wolf'}"
      ]
     },
     "execution_count": 43,
     "metadata": {},
     "output_type": "execute_result"
    }
   ],
   "source": [
    "animals"
   ]
  },
  {
   "cell_type": "code",
   "execution_count": 44,
   "id": "3a419d9d",
   "metadata": {},
   "outputs": [],
   "source": [
    "animals.remove(\"Dog\")"
   ]
  },
  {
   "cell_type": "code",
   "execution_count": 45,
   "id": "429a761b",
   "metadata": {},
   "outputs": [
    {
     "data": {
      "text/plain": [
       "{'Camel', 'Fox', 'Wolf'}"
      ]
     },
     "execution_count": 45,
     "metadata": {},
     "output_type": "execute_result"
    }
   ],
   "source": [
    "animals"
   ]
  },
  {
   "cell_type": "markdown",
   "id": "ebe93ce0",
   "metadata": {},
   "source": [
    "Q9. favorite_books = {\"1984\", \"To Kill a Mockingbird\", \"Pride and Prejudice\"}\n",
    "\n",
    "favorite_movies = [\"The Shawshank Redemption\", \"The Godfather\", \"The Dark Knight\"]\n",
    "\n",
    "Use the zip() function to combine the book set and movie list into a list of tuples representing book/\n",
    "movie pairs. Print the resulting list."
   ]
  },
  {
   "cell_type": "code",
   "execution_count": 49,
   "id": "634f7482",
   "metadata": {},
   "outputs": [
    {
     "data": {
      "text/plain": [
       "[('Pride and Prejudice', 'The Shawshank Redemption'),\n",
       " ('To Kill a Mockingbird', 'The Godfather'),\n",
       " ('1984', 'The Dark Knight')]"
      ]
     },
     "execution_count": 49,
     "metadata": {},
     "output_type": "execute_result"
    }
   ],
   "source": [
    "favorite_books = {\"1984\", \"To Kill a Mockingbird\", \"Pride and Prejudice\"}\n",
    "favorite_movies = [\"The Shawshank Redemption\", \"The Godfather\", \"The Dark Knight\"]\n",
    "result = list(zip(favorite_books, favorite_movies))\n",
    "result"
   ]
  },
  {
   "cell_type": "markdown",
   "id": "1c435c4a",
   "metadata": {},
   "source": [
    "Q10. Write a Python program to find the difference between consecutive numbers in a list."
   ]
  },
  {
   "cell_type": "code",
   "execution_count": 67,
   "id": "f3ba3ec6",
   "metadata": {},
   "outputs": [
    {
     "data": {
      "text/plain": [
       "[4, -4, 4, -1, -2]"
      ]
     },
     "execution_count": 67,
     "metadata": {},
     "output_type": "execute_result"
    }
   ],
   "source": [
    "def diff_consecutive(l):\n",
    "    res = []\n",
    "    for i in range(len(l)-1):\n",
    "        res.append(l[i+1] - l[i])\n",
    "    return res\n",
    "\n",
    "l = [5,9,5,9,8,6]\n",
    "diff_consecutive(l)"
   ]
  },
  {
   "cell_type": "code",
   "execution_count": null,
   "id": "cbaf97fd",
   "metadata": {},
   "outputs": [],
   "source": []
  }
 ],
 "metadata": {
  "kernelspec": {
   "display_name": "Python 3 (ipykernel)",
   "language": "python",
   "name": "python3"
  },
  "language_info": {
   "codemirror_mode": {
    "name": "ipython",
    "version": 3
   },
   "file_extension": ".py",
   "mimetype": "text/x-python",
   "name": "python",
   "nbconvert_exporter": "python",
   "pygments_lexer": "ipython3",
   "version": "3.9.13"
  }
 },
 "nbformat": 4,
 "nbformat_minor": 5
}
