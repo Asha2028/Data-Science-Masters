{
 "cells": [
  {
   "cell_type": "code",
   "execution_count": 2,
   "id": "493b4a64",
   "metadata": {},
   "outputs": [],
   "source": [
    "# 1. Write a program to accept percentage from the user and display the grade according to the following criteria:\n",
    "\n",
    "# Marks            Grade\n",
    "   \n",
    "# >90               A\n",
    "    \n",
    "# >80 and <=90      B\n",
    "\n",
    "# >=60 and <=80     C\n",
    "\n",
    "# below 60          D"
   ]
  },
  {
   "cell_type": "code",
   "execution_count": 1,
   "id": "5a54f2a9",
   "metadata": {},
   "outputs": [
    {
     "name": "stdout",
     "output_type": "stream",
     "text": [
      "Enter the marks: 100\n"
     ]
    },
    {
     "data": {
      "text/plain": [
       "'A'"
      ]
     },
     "execution_count": 1,
     "metadata": {},
     "output_type": "execute_result"
    }
   ],
   "source": [
    "def stu_grades(marks):\n",
    "    if marks > 90:\n",
    "        return \"A\"\n",
    "    elif 80< marks <=90:\n",
    "        return \"B\"\n",
    "    elif 60<= marks <=80:\n",
    "        return \"C\"\n",
    "    else:\n",
    "        return \"D\"\n",
    "\n",
    "marks = int(input(\"Enter the marks: \"))\n",
    "stu_grades(marks)"
   ]
  },
  {
   "cell_type": "code",
   "execution_count": 3,
   "id": "07d98902",
   "metadata": {},
   "outputs": [],
   "source": [
    "# 2. Write a program to accept the cost price of a bike and display the road tax to be paid according to the following criteria:\n",
    "#     Tax      Cost Price(in Rs)\n",
    "#     15%       >100000\n",
    "#     10%       >50000 and <=100000\n",
    "#     5%        <=50000 "
   ]
  },
  {
   "cell_type": "code",
   "execution_count": 19,
   "id": "1449178b",
   "metadata": {},
   "outputs": [
    {
     "name": "stdout",
     "output_type": "stream",
     "text": [
      "Enter the price of the bike: 1050000\n"
     ]
    },
    {
     "data": {
      "text/plain": [
       "'The tax to be paid is 15%'"
      ]
     },
     "execution_count": 19,
     "metadata": {},
     "output_type": "execute_result"
    }
   ],
   "source": [
    "def display_tax(price):\n",
    "    if price > 100000:\n",
    "        return \"The tax to be paid is 15%\"\n",
    "    elif 50000< price <=100000:\n",
    "        return \"The tax to be paid is 10%\"\n",
    "    elif price <= 50000:\n",
    "        return \"The tax to be paid is 5%\"\n",
    "    else:\n",
    "        return \"Enter the correct amount\"\n",
    "        \n",
    "bike_price = int(input(\"Enter the price of the bike: \"))\n",
    "display_tax(bike_price)"
   ]
  },
  {
   "cell_type": "code",
   "execution_count": null,
   "id": "c3f23bec",
   "metadata": {},
   "outputs": [],
   "source": [
    "# 3. Accept any city from the user and display monuments of that city.\n",
    "#     City     Monument\n",
    "#     Delhi    Red Fort\n",
    "#     Agra     Taj Mahal\n",
    "#     Jaipur   Jal Mahal"
   ]
  },
  {
   "cell_type": "code",
   "execution_count": 18,
   "id": "7a1dea1c",
   "metadata": {},
   "outputs": [
    {
     "name": "stdout",
     "output_type": "stream",
     "text": [
      "Enter the city name: jaipur\n"
     ]
    },
    {
     "data": {
      "text/plain": [
       "'Jal Mahal'"
      ]
     },
     "execution_count": 18,
     "metadata": {},
     "output_type": "execute_result"
    }
   ],
   "source": [
    "def display_city(city):\n",
    "    if city == \"Delhi\" or city == \"delhi\":\n",
    "        return \"Red Fort\"\n",
    "    elif city == \"Agra\" or city == \"agra\":\n",
    "        return \"Taj Mahal\"\n",
    "    elif city == \"Jaipur\" or city == \"jaipur\":\n",
    "        return \"Jal Mahal\"\n",
    "    else:\n",
    "        return \"Enter the city name given in the table\"\n",
    "    \n",
    "city = input(\"Enter the city name: \")\n",
    "\n",
    "display_city(city)"
   ]
  },
  {
   "cell_type": "code",
   "execution_count": null,
   "id": "606bab02",
   "metadata": {},
   "outputs": [],
   "source": [
    "# 4. Check how many times a given number can be divided by 3 before it is less than or equal to 10."
   ]
  },
  {
   "cell_type": "code",
   "execution_count": 32,
   "id": "1412b4e4",
   "metadata": {},
   "outputs": [
    {
     "name": "stdout",
     "output_type": "stream",
     "text": [
      "Enter the number: 300\n",
      "The number will be divided 4 times\n"
     ]
    }
   ],
   "source": [
    "number = int(input(\"Enter the number: \"))\n",
    "count =0\n",
    "while number>10:\n",
    "    number = number/3\n",
    "    count +=1\n",
    "\n",
    "print(\"The number will be divided {} times\".format(count))"
   ]
  },
  {
   "cell_type": "markdown",
   "id": "3f2b0ee2",
   "metadata": {},
   "source": [
    "5. Why and when to use while loop in python. Give a detailed description with example.\n",
    "\n",
    "Ans:\n",
    "\n",
    "    When the number of iterations are not known and certain conditions are met then we use while loop in python. "
   ]
  },
  {
   "cell_type": "code",
   "execution_count": 33,
   "id": "56bcd5b9",
   "metadata": {},
   "outputs": [
    {
     "name": "stdout",
     "output_type": "stream",
     "text": [
      "1000\n",
      "900\n",
      "800\n",
      "700\n",
      "600\n",
      "500\n",
      "400\n",
      "300\n",
      "200\n",
      "100\n",
      "Put more money into teh account\n"
     ]
    }
   ],
   "source": [
    "#Example \n",
    "total_amount = 1000\n",
    "while total_amount != 0:\n",
    "    print(total_amount)\n",
    "    total_amount -= 100\n",
    "else:\n",
    "    print(\"Put more money into teh account\")\n"
   ]
  },
  {
   "cell_type": "code",
   "execution_count": null,
   "id": "386ea892",
   "metadata": {},
   "outputs": [],
   "source": [
    "# 6. Use nested while loop to print 3 different pattern."
   ]
  },
  {
   "cell_type": "code",
   "execution_count": 47,
   "id": "14ea3d43",
   "metadata": {},
   "outputs": [
    {
     "name": "stdout",
     "output_type": "stream",
     "text": [
      "1 \n",
      "2 2 \n",
      "3 3 3 \n",
      "4 4 4 4 \n",
      "5 5 5 5 5 \n"
     ]
    }
   ],
   "source": [
    "rows = int(input(\"Enter the number of rows: \"))\n",
    "i = 1\n",
    "while i <= rows:\n",
    "    j = 1\n",
    "    while j <= i:\n",
    "        print(i,end =' ')\n",
    "        j += 1\n",
    "    i += 1\n",
    "    print('')\n",
    "      "
   ]
  },
  {
   "cell_type": "code",
   "execution_count": 56,
   "id": "c4cc2c42",
   "metadata": {},
   "outputs": [
    {
     "name": "stdout",
     "output_type": "stream",
     "text": [
      "Enter the number of rows: 5\n",
      "     \n",
      "    * \n",
      "   * * \n",
      "  * * * \n",
      " * * * * \n",
      "* * * * * \n"
     ]
    }
   ],
   "source": [
    "i = int(input(\"Enter the number of rows: \"))\n",
    "while i >= 0:\n",
    "    j = 0\n",
    "    while j < i:\n",
    "        print('', end=' ')\n",
    "        j += 1\n",
    "    k = i\n",
    "    while k <= rows - 1:\n",
    "        print('*', end=' ')\n",
    "        k += 1\n",
    "    print('')\n",
    "    i -= 1"
   ]
  },
  {
   "cell_type": "code",
   "execution_count": 57,
   "id": "880262c3",
   "metadata": {},
   "outputs": [
    {
     "name": "stdout",
     "output_type": "stream",
     "text": [
      "Enter the number of rows: 5\n",
      "* * * * * \n",
      "* * * * _ \n",
      "* * * _ _ \n",
      "* * _ _ _ \n",
      "* _ _ _ _ \n",
      "_ _ _ _ _ \n"
     ]
    }
   ],
   "source": [
    "i = int(input(\"Enter the number of rows: \"))\n",
    "while i >= 0:\n",
    "    j = 0\n",
    "    while j < i:\n",
    "        print('*', end=' ')\n",
    "        j += 1\n",
    "    k = i\n",
    "    while k <= rows - 1:\n",
    "        print('_', end=' ')\n",
    "        k += 1\n",
    "    print('')\n",
    "    i -= 1"
   ]
  },
  {
   "cell_type": "code",
   "execution_count": null,
   "id": "5b55913e",
   "metadata": {},
   "outputs": [],
   "source": [
    "# 7. Reverse a while loop to display numbers from 10 to 1"
   ]
  },
  {
   "cell_type": "code",
   "execution_count": 42,
   "id": "43103fd7",
   "metadata": {},
   "outputs": [
    {
     "name": "stdout",
     "output_type": "stream",
     "text": [
      "10\n",
      "9\n",
      "8\n",
      "7\n",
      "6\n",
      "5\n",
      "4\n",
      "3\n",
      "2\n",
      "1\n"
     ]
    }
   ],
   "source": [
    "i=1\n",
    "n=10\n",
    "while n>=i:\n",
    "    print(n)\n",
    "    n -= 1"
   ]
  },
  {
   "cell_type": "code",
   "execution_count": null,
   "id": "d688263c",
   "metadata": {},
   "outputs": [],
   "source": [
    "# 8. Reverse a while loop to display numbers from 10 to 1\n",
    "# Ans: Repeated question"
   ]
  }
 ],
 "metadata": {
  "kernelspec": {
   "display_name": "Python 3 (ipykernel)",
   "language": "python",
   "name": "python3"
  },
  "language_info": {
   "codemirror_mode": {
    "name": "ipython",
    "version": 3
   },
   "file_extension": ".py",
   "mimetype": "text/x-python",
   "name": "python",
   "nbconvert_exporter": "python",
   "pygments_lexer": "ipython3",
   "version": "3.9.13"
  }
 },
 "nbformat": 4,
 "nbformat_minor": 5
}
